{
 "cells": [
  {
   "cell_type": "markdown",
   "metadata": {},
   "source": [
    "# Churn Prediction for Beta Bank: Maximizing Customer Retention with Data-Driven Insights"
   ]
  },
  {
   "cell_type": "markdown",
   "metadata": {},
   "source": [
    "# Contents <a id='contents'></a>\n",
    "\n",
    "[1. Contents](#contents)   \n",
    "[2. Introduction](#introduction)  \n",
    "[3. Project Goal](#project_goal)     \n",
    "[4. Initialization](#initialization)  \n",
    "[5. Load data](#load-data)  \n",
    "[6. Data Description](#data-description)  \n",
    "[7. Data Preprocessing](#data-preprocessing)      \n",
    "[8. Transform categorical features into numerical features](#transform-categorical-features)    \n",
    "[9. Divide encoded dataset into target and features](#target-and-features)  \n",
    "[10. Divide target and features into train, validation & test set](#train-valid-test)  \n",
    "[11. Feature scaling of train, validation & test set](#feature-scaling)  \n",
    "[12. Train the models without taking into account the imbalance](#train-with-class-imbalance)  \n",
    "[13. Fix the class imbalance](#fix-the-class-imbalance)  \n",
    "[14. Train the models after fixing the imbalance](#train-without-class-imbalance)  \n",
    "[15. Test the best model on test data](#test-the-best-model)  \n",
    "[16. Conclusion](#conclusion)  "
   ]
  },
  {
   "cell_type": "markdown",
   "metadata": {},
   "source": [
    "# 1. Introduction <a id='introduction'></a> \n",
    "[Back to Contents](#contents)"
   ]
  },
  {
   "cell_type": "markdown",
   "metadata": {},
   "source": [
    "In the fast-paced and competitive world of banking, customer retention has emerged as a crucial factor for sustainable growth and success. **Beta Bank**, a prominent financial institution, has been facing a gradual exodus of customers, as they chip away little by little each month. **Recognizing the significance of preserving existing clients, Beta Bank has embarked on a mission to predict customer churn and implement strategic measures to retain valued customers**. This project aims to develop a robust churn prediction model using historical customer behavior data and contract termination records to identify customers who are likely to leave the bank soon."
   ]
  },
  {
   "cell_type": "markdown",
   "metadata": {},
   "source": [
    "# 2. Project Goal <a id='project_goal'></a>  \n",
    "[Back to Contents](#contents)"
   ]
  },
  {
   "cell_type": "markdown",
   "metadata": {},
   "source": [
    "The project's primary goal is **to develop a churn prediction model with the maximum possible F1 score** to accurately predict whether a customer will leave Beta Bank soon. To pass the project, **the model needs to achieve an F1 score of at least 0.59 on the test set**, indicating a strong predictive performance in correctly identifying customers who are likely to churn. The secondary goal is to assess the model's performance using the AUC-ROC metric and compare it with the F1 score to gain comprehensive insights into the model's predictive capabilities."
   ]
  },
  {
   "cell_type": "markdown",
   "metadata": {},
   "source": [
    "# 3. Initialization <a id='initialization'></a>  \n",
    "[Back to Contents](#contents)"
   ]
  },
  {
   "cell_type": "markdown",
   "metadata": {},
   "source": [
    "We need to import the `sklearn` library in Python because **it provides a wide range of tools and functionalities for machine learning tasks**. It includes various algorithms and evaluation metrics that are commonly used in the field.  \n",
    "\n",
    "In this specific project, **we want to develop a model to predict whether a customer will leave the bank soon or not. This is a binary classification problem since we have two groups of classification: customer will exit and customer will not exit.**. \n",
    "\n",
    "We will train, test and predict using the following models for this task:  \n",
    "\n",
    "1. **[Decision Tree Classifier](https://scikit-learn.org/stable/modules/tree.html#decision-trees)**: Decision trees are versatile and widely used in classification problems. They are simple to understand and interpret, and they can handle both numerical and categorical data. Decision trees create a tree-like model of decisions and their possible consequences, making them suitable for analyzing subscriber behavior and predicting their plan preference. The `sklearn.tree` module provides us with `DecisionTreeClassifier` class which is capable of performing multi-class classification on a dataset.\n",
    "\n",
    "2. **[Random Forest Classifier](https://scikit-learn.org/stable/modules/ensemble.html#random-forests)**: Random forests are an ensemble learning method that combines multiple decision trees to make predictions. They are known for their high accuracy and ability to handle complex datasets. The `sklearn.ensemble` module provides us with `RandomForestClassifier` class which is an averaging algorithm based on randomized decision trees.\n",
    "\n",
    "3. **[Logistic Regression](https://scikit-learn.org/stable/modules/linear_model.html#logistic-regression)**: Logistic regression is a popular algorithm for binary classification problems. It models the relationship between the dependent variable and independent variables using the logistic function, which produces probabilities of class membership. The `sklearn.linear_model` module provides us with `LogisticRegression` class to implement the model.  "
   ]
  },
  {
   "cell_type": "code",
   "execution_count": 1,
   "metadata": {},
   "outputs": [],
   "source": [
    "import pandas as pd\n",
    "from matplotlib import pyplot as plt\n",
    "import seaborn as sns\n",
    "\n",
    "from sklearn.tree import DecisionTreeClassifier\n",
    "from sklearn.ensemble import RandomForestClassifier\n",
    "from sklearn.linear_model import LogisticRegression\n",
    "from sklearn.model_selection import train_test_split\n",
    "from sklearn.preprocessing import OrdinalEncoder, StandardScaler\n",
    "from sklearn.metrics import accuracy_score, confusion_matrix, recall_score, precision_score, f1_score, roc_curve, roc_auc_score\n",
    "from sklearn.utils import shuffle\n",
    "\n",
    "from joblib import dump, load"
   ]
  },
  {
   "cell_type": "markdown",
   "metadata": {},
   "source": [
    "# 4. Load data <a id='load-data'></a>  \n",
    "[Back to Contents](#contents)"
   ]
  },
  {
   "cell_type": "markdown",
   "metadata": {},
   "source": [
    "We have been provided dataset in `./datasets/Churn.csv`. Let's load the dataset in `df_churn` dataframe."
   ]
  },
  {
   "cell_type": "code",
   "execution_count": 2,
   "metadata": {},
   "outputs": [],
   "source": [
    "# Load the dataset from the given csv file\n",
    "df_churn = pd.read_csv('./datasets/Churn.csv')"
   ]
  },
  {
   "cell_type": "markdown",
   "metadata": {},
   "source": [
    "# 5. Data Description <a id='data-description'></a>  \n",
    "[Back to Contents](#contents)"
   ]
  },
  {
   "cell_type": "markdown",
   "metadata": {},
   "source": [
    "Let's have a peek into the data in the dataframe - `df_churn`."
   ]
  },
  {
   "cell_type": "code",
   "execution_count": 3,
   "metadata": {},
   "outputs": [
    {
     "name": "stdout",
     "output_type": "stream",
     "text": [
      "<class 'pandas.core.frame.DataFrame'>\n",
      "RangeIndex: 10000 entries, 0 to 9999\n",
      "Data columns (total 14 columns):\n",
      " #   Column           Non-Null Count  Dtype  \n",
      "---  ------           --------------  -----  \n",
      " 0   RowNumber        10000 non-null  int64  \n",
      " 1   CustomerId       10000 non-null  int64  \n",
      " 2   Surname          10000 non-null  object \n",
      " 3   CreditScore      10000 non-null  int64  \n",
      " 4   Geography        10000 non-null  object \n",
      " 5   Gender           10000 non-null  object \n",
      " 6   Age              10000 non-null  int64  \n",
      " 7   Tenure           9091 non-null   float64\n",
      " 8   Balance          10000 non-null  float64\n",
      " 9   NumOfProducts    10000 non-null  int64  \n",
      " 10  HasCrCard        10000 non-null  int64  \n",
      " 11  IsActiveMember   10000 non-null  int64  \n",
      " 12  EstimatedSalary  10000 non-null  float64\n",
      " 13  Exited           10000 non-null  int64  \n",
      "dtypes: float64(3), int64(8), object(3)\n",
      "memory usage: 1.1+ MB\n"
     ]
    }
   ],
   "source": [
    "# Get general information of the df_churn\n",
    "df_churn.info()"
   ]
  },
  {
   "cell_type": "code",
   "execution_count": 4,
   "metadata": {},
   "outputs": [
    {
     "data": {
      "text/html": [
       "<div>\n",
       "<style scoped>\n",
       "    .dataframe tbody tr th:only-of-type {\n",
       "        vertical-align: middle;\n",
       "    }\n",
       "\n",
       "    .dataframe tbody tr th {\n",
       "        vertical-align: top;\n",
       "    }\n",
       "\n",
       "    .dataframe thead th {\n",
       "        text-align: right;\n",
       "    }\n",
       "</style>\n",
       "<table border=\"1\" class=\"dataframe\">\n",
       "  <thead>\n",
       "    <tr style=\"text-align: right;\">\n",
       "      <th></th>\n",
       "      <th>RowNumber</th>\n",
       "      <th>CustomerId</th>\n",
       "      <th>Surname</th>\n",
       "      <th>CreditScore</th>\n",
       "      <th>Geography</th>\n",
       "      <th>Gender</th>\n",
       "      <th>Age</th>\n",
       "      <th>Tenure</th>\n",
       "      <th>Balance</th>\n",
       "      <th>NumOfProducts</th>\n",
       "      <th>HasCrCard</th>\n",
       "      <th>IsActiveMember</th>\n",
       "      <th>EstimatedSalary</th>\n",
       "      <th>Exited</th>\n",
       "    </tr>\n",
       "  </thead>\n",
       "  <tbody>\n",
       "    <tr>\n",
       "      <th>0</th>\n",
       "      <td>1</td>\n",
       "      <td>15634602</td>\n",
       "      <td>Hargrave</td>\n",
       "      <td>619</td>\n",
       "      <td>France</td>\n",
       "      <td>Female</td>\n",
       "      <td>42</td>\n",
       "      <td>2.0</td>\n",
       "      <td>0.00</td>\n",
       "      <td>1</td>\n",
       "      <td>1</td>\n",
       "      <td>1</td>\n",
       "      <td>101348.88</td>\n",
       "      <td>1</td>\n",
       "    </tr>\n",
       "    <tr>\n",
       "      <th>1</th>\n",
       "      <td>2</td>\n",
       "      <td>15647311</td>\n",
       "      <td>Hill</td>\n",
       "      <td>608</td>\n",
       "      <td>Spain</td>\n",
       "      <td>Female</td>\n",
       "      <td>41</td>\n",
       "      <td>1.0</td>\n",
       "      <td>83807.86</td>\n",
       "      <td>1</td>\n",
       "      <td>0</td>\n",
       "      <td>1</td>\n",
       "      <td>112542.58</td>\n",
       "      <td>0</td>\n",
       "    </tr>\n",
       "    <tr>\n",
       "      <th>2</th>\n",
       "      <td>3</td>\n",
       "      <td>15619304</td>\n",
       "      <td>Onio</td>\n",
       "      <td>502</td>\n",
       "      <td>France</td>\n",
       "      <td>Female</td>\n",
       "      <td>42</td>\n",
       "      <td>8.0</td>\n",
       "      <td>159660.80</td>\n",
       "      <td>3</td>\n",
       "      <td>1</td>\n",
       "      <td>0</td>\n",
       "      <td>113931.57</td>\n",
       "      <td>1</td>\n",
       "    </tr>\n",
       "    <tr>\n",
       "      <th>3</th>\n",
       "      <td>4</td>\n",
       "      <td>15701354</td>\n",
       "      <td>Boni</td>\n",
       "      <td>699</td>\n",
       "      <td>France</td>\n",
       "      <td>Female</td>\n",
       "      <td>39</td>\n",
       "      <td>1.0</td>\n",
       "      <td>0.00</td>\n",
       "      <td>2</td>\n",
       "      <td>0</td>\n",
       "      <td>0</td>\n",
       "      <td>93826.63</td>\n",
       "      <td>0</td>\n",
       "    </tr>\n",
       "    <tr>\n",
       "      <th>4</th>\n",
       "      <td>5</td>\n",
       "      <td>15737888</td>\n",
       "      <td>Mitchell</td>\n",
       "      <td>850</td>\n",
       "      <td>Spain</td>\n",
       "      <td>Female</td>\n",
       "      <td>43</td>\n",
       "      <td>2.0</td>\n",
       "      <td>125510.82</td>\n",
       "      <td>1</td>\n",
       "      <td>1</td>\n",
       "      <td>1</td>\n",
       "      <td>79084.10</td>\n",
       "      <td>0</td>\n",
       "    </tr>\n",
       "  </tbody>\n",
       "</table>\n",
       "</div>"
      ],
      "text/plain": [
       "   RowNumber  CustomerId   Surname  CreditScore Geography  Gender  Age  \\\n",
       "0          1    15634602  Hargrave          619    France  Female   42   \n",
       "1          2    15647311      Hill          608     Spain  Female   41   \n",
       "2          3    15619304      Onio          502    France  Female   42   \n",
       "3          4    15701354      Boni          699    France  Female   39   \n",
       "4          5    15737888  Mitchell          850     Spain  Female   43   \n",
       "\n",
       "   Tenure    Balance  NumOfProducts  HasCrCard  IsActiveMember  \\\n",
       "0     2.0       0.00              1          1               1   \n",
       "1     1.0   83807.86              1          0               1   \n",
       "2     8.0  159660.80              3          1               0   \n",
       "3     1.0       0.00              2          0               0   \n",
       "4     2.0  125510.82              1          1               1   \n",
       "\n",
       "   EstimatedSalary  Exited  \n",
       "0        101348.88       1  \n",
       "1        112542.58       0  \n",
       "2        113931.57       1  \n",
       "3         93826.63       0  \n",
       "4         79084.10       0  "
      ]
     },
     "execution_count": 4,
     "metadata": {},
     "output_type": "execute_result"
    }
   ],
   "source": [
    "# Get first five rows of the dataframe - df_churn\n",
    "df_churn.head()"
   ]
  },
  {
   "cell_type": "markdown",
   "metadata": {},
   "source": [
    "The dataframe - `df_churn` contains various features related to Beta Bank's customers. Each row represents a unique customer, and the dataset comprises the following features:\n",
    "\n",
    "1. **RowNumber**: A data string index representing the row number in the dataset.\n",
    "\n",
    "2. **CustomerId**: A unique customer identifier, which serves as a key to distinguish individual customers.\n",
    "\n",
    "3. **Surname**: The surname of the customer.\n",
    "\n",
    "4. **CreditScore**: The credit score of the customer, reflecting their creditworthiness.\n",
    "\n",
    "5. **Geography**: The country of residence of the customer.\n",
    "\n",
    "6. **Gender**: The gender of the customer (e.g., Male or Female).\n",
    "\n",
    "7. **Age**: The age of the customer.\n",
    "\n",
    "8. **Tenure**: The period of maturation for a customer's fixed deposit, _measured in years_.\n",
    "\n",
    "9. **Balance**: The account balance of the customer.\n",
    "\n",
    "10. **NumOfProducts**: The number of banking products used by the customer (e.g., savings account, loans).\n",
    "\n",
    "11. **HasCrCard**: A binary feature indicating whether the customer has a credit card (1 for yes, 0 for no).\n",
    "\n",
    "12. **IsActiveMember**: A binary feature indicating the customer's activeness (1 for active, 0 for inactive).\n",
    "\n",
    "13. **EstimatedSalary**: The estimated salary of the customer.\n",
    "\n",
    "**Target Variable**:\n",
    "\n",
    "The target variable is labeled as **Exited** which indicates whether a customer has left Beta Bank (1 for yes, 0 for no). This variable is used for the churn prediction task, where the objective is to predict if a customer is likely to churn or leave the bank soon."
   ]
  },
  {
   "cell_type": "markdown",
   "metadata": {},
   "source": [
    "**There are a few points that we can conclude from the above information**:\n",
    "1. There are 10000 rows in the Dataframe - `df_churn`.\n",
    "2. All the columns except `Tenure` don't have any missing values. \n",
    "3. The column - `Tenure` have only 9091 values. It means we have 909 missing values that we need to address.\n",
    "4. The column names are in PascalCase. It will be great to have all of them converted to snake_case for better understanding. \n",
    "\n",
    "We will address these issues in the Data Preprocessing section."
   ]
  },
  {
   "cell_type": "markdown",
   "metadata": {},
   "source": [
    "# 6. Data Preprocessing <a id='data-preprocessing'></a>  \n",
    "[Back to Contents](#contents)"
   ]
  },
  {
   "cell_type": "markdown",
   "metadata": {},
   "source": [
    "## Change the column names <a id='change-the-column-names'></a>  \n",
    "[Back to Contents](#contents)"
   ]
  },
  {
   "cell_type": "markdown",
   "metadata": {},
   "source": [
    "The column names are in PascalCase. It will be great to have them converted into snake_case for better readability. So, let's go:"
   ]
  },
  {
   "cell_type": "code",
   "execution_count": 5,
   "metadata": {},
   "outputs": [
    {
     "data": {
      "text/plain": [
       "Index(['RowNumber', 'CustomerId', 'Surname', 'CreditScore', 'Geography',\n",
       "       'Gender', 'Age', 'Tenure', 'Balance', 'NumOfProducts', 'HasCrCard',\n",
       "       'IsActiveMember', 'EstimatedSalary', 'Exited'],\n",
       "      dtype='object')"
      ]
     },
     "execution_count": 5,
     "metadata": {},
     "output_type": "execute_result"
    }
   ],
   "source": [
    "# Columns names before the rename\n",
    "df_churn.columns"
   ]
  },
  {
   "cell_type": "code",
   "execution_count": 6,
   "metadata": {},
   "outputs": [],
   "source": [
    "# Rename columns from PascalCase to snake_case\n",
    "new_column_names = {\n",
    "    'RowNumber': 'row_number', \n",
    "    'CustomerId': 'customer_id', \n",
    "    'Surname': 'surname', \n",
    "    'CreditScore': 'credit_score', \n",
    "    'Geography': 'geography',\n",
    "    'Gender': 'gender',\n",
    "    'Age': 'age',\n",
    "    'Tenure': 'tenure',\n",
    "    'Balance': 'balance',\n",
    "    'NumOfProducts': 'num_of_products', \n",
    "    'HasCrCard': 'has_cr_card',\n",
    "    'IsActiveMember': 'is_active_member',\n",
    "    'EstimatedSalary': 'estimated_salary',\n",
    "    'Exited': 'exited'\n",
    "}\n",
    "df_churn = df_churn.rename(columns=new_column_names)"
   ]
  },
  {
   "cell_type": "code",
   "execution_count": 7,
   "metadata": {},
   "outputs": [
    {
     "data": {
      "text/plain": [
       "Index(['row_number', 'customer_id', 'surname', 'credit_score', 'geography',\n",
       "       'gender', 'age', 'tenure', 'balance', 'num_of_products', 'has_cr_card',\n",
       "       'is_active_member', 'estimated_salary', 'exited'],\n",
       "      dtype='object')"
      ]
     },
     "execution_count": 7,
     "metadata": {},
     "output_type": "execute_result"
    }
   ],
   "source": [
    "# Columns names after the rename\n",
    "df_churn.columns"
   ]
  },
  {
   "cell_type": "markdown",
   "metadata": {},
   "source": [
    "Great! We are making some progress! "
   ]
  },
  {
   "cell_type": "markdown",
   "metadata": {},
   "source": [
    "## Look for duplicates <a id='look-for-duplicates'></a>  \n",
    "[Back to Contents](#contents)"
   ]
  },
  {
   "cell_type": "markdown",
   "metadata": {},
   "source": [
    "Let's look if we have any duplicate rows:"
   ]
  },
  {
   "cell_type": "code",
   "execution_count": 8,
   "metadata": {},
   "outputs": [
    {
     "data": {
      "text/plain": [
       "0"
      ]
     },
     "execution_count": 8,
     "metadata": {},
     "output_type": "execute_result"
    }
   ],
   "source": [
    "# Check for duplicate rows in df_churn\n",
    "df_churn.duplicated().sum()"
   ]
  },
  {
   "cell_type": "markdown",
   "metadata": {},
   "source": [
    "Wow! That's a relief that our dataframe - `df_churn` is not having any duplicate rows. But, what about any implicit duplicates. Let's see if we have any duplicate customer IDs:"
   ]
  },
  {
   "cell_type": "code",
   "execution_count": 9,
   "metadata": {},
   "outputs": [
    {
     "data": {
      "text/plain": [
       "0"
      ]
     },
     "execution_count": 9,
     "metadata": {},
     "output_type": "execute_result"
    }
   ],
   "source": [
    "# Check for duplicate customer IDs in df_churn\n",
    "df_churn['customer_id'].duplicated().sum()"
   ]
  },
  {
   "cell_type": "markdown",
   "metadata": {},
   "source": [
    "Awesome! We don't have any duplicate customer IDs. Let's also check the different countries from which our customers come from:"
   ]
  },
  {
   "cell_type": "code",
   "execution_count": 10,
   "metadata": {},
   "outputs": [
    {
     "data": {
      "text/plain": [
       "France     5014\n",
       "Germany    2509\n",
       "Spain      2477\n",
       "Name: geography, dtype: int64"
      ]
     },
     "execution_count": 10,
     "metadata": {},
     "output_type": "execute_result"
    }
   ],
   "source": [
    "# Get unique values with counts in geography column of df_churn\n",
    "df_churn['geography'].value_counts()"
   ]
  },
  {
   "cell_type": "markdown",
   "metadata": {},
   "source": [
    "It seems that we have customers from France, Germany and Spain. Great! Let's also do a quick validation on the values of the columns - `gender`, `has_cr_card`, `is_active_member` and `exited`:"
   ]
  },
  {
   "cell_type": "code",
   "execution_count": 11,
   "metadata": {
    "scrolled": true
   },
   "outputs": [
    {
     "data": {
      "text/plain": [
       "Male      5457\n",
       "Female    4543\n",
       "Name: gender, dtype: int64"
      ]
     },
     "execution_count": 11,
     "metadata": {},
     "output_type": "execute_result"
    }
   ],
   "source": [
    "df_churn['gender'].value_counts()"
   ]
  },
  {
   "cell_type": "code",
   "execution_count": 12,
   "metadata": {},
   "outputs": [
    {
     "data": {
      "text/plain": [
       "1    7055\n",
       "0    2945\n",
       "Name: has_cr_card, dtype: int64"
      ]
     },
     "execution_count": 12,
     "metadata": {},
     "output_type": "execute_result"
    }
   ],
   "source": [
    "df_churn['has_cr_card'].value_counts()"
   ]
  },
  {
   "cell_type": "code",
   "execution_count": 13,
   "metadata": {},
   "outputs": [
    {
     "data": {
      "text/plain": [
       "1    5151\n",
       "0    4849\n",
       "Name: is_active_member, dtype: int64"
      ]
     },
     "execution_count": 13,
     "metadata": {},
     "output_type": "execute_result"
    }
   ],
   "source": [
    "df_churn['is_active_member'].value_counts()"
   ]
  },
  {
   "cell_type": "code",
   "execution_count": 14,
   "metadata": {},
   "outputs": [
    {
     "data": {
      "text/plain": [
       "0    7963\n",
       "1    2037\n",
       "Name: exited, dtype: int64"
      ]
     },
     "execution_count": 14,
     "metadata": {},
     "output_type": "execute_result"
    }
   ],
   "source": [
    "df_churn['exited'].value_counts()"
   ]
  },
  {
   "cell_type": "markdown",
   "metadata": {},
   "source": [
    "So, finally we can say that we have no duplicates in `df_churn` and values are as expected."
   ]
  },
  {
   "cell_type": "markdown",
   "metadata": {},
   "source": [
    "## Look for missing values <a id='look-for-missing-values'></a>  \n",
    "[Back to Contents](#contents)"
   ]
  },
  {
   "cell_type": "markdown",
   "metadata": {},
   "source": [
    "We already saw above that `tenure` column has some missing values. Let's see how many?"
   ]
  },
  {
   "cell_type": "code",
   "execution_count": 15,
   "metadata": {},
   "outputs": [
    {
     "data": {
      "text/plain": [
       "909"
      ]
     },
     "execution_count": 15,
     "metadata": {},
     "output_type": "execute_result"
    }
   ],
   "source": [
    "# Check how many missing values does tenure have?\n",
    "df_churn['tenure'].isna().sum()"
   ]
  },
  {
   "cell_type": "markdown",
   "metadata": {},
   "source": [
    "We need to address 909 missing values. Its quite a significant number of records, so we can't just drop them. We need to replace them with some value. Let's check what are the mean and median of the `tenure` column:"
   ]
  },
  {
   "cell_type": "code",
   "execution_count": 16,
   "metadata": {},
   "outputs": [
    {
     "data": {
      "text/plain": [
       "4.997690023099769"
      ]
     },
     "execution_count": 16,
     "metadata": {},
     "output_type": "execute_result"
    }
   ],
   "source": [
    "# Mean of tenure column\n",
    "df_churn['tenure'].mean()"
   ]
  },
  {
   "cell_type": "code",
   "execution_count": 17,
   "metadata": {},
   "outputs": [
    {
     "data": {
      "text/plain": [
       "5.0"
      ]
     },
     "execution_count": 17,
     "metadata": {},
     "output_type": "execute_result"
    }
   ],
   "source": [
    "# Median of tenure column\n",
    "df_churn['tenure'].median()"
   ]
  },
  {
   "cell_type": "markdown",
   "metadata": {},
   "source": [
    "Since, the mean and median, both are almost the same for the `tenure` column in `df_churn` dataframe, let's replace all the missing values with `5.0`:"
   ]
  },
  {
   "cell_type": "code",
   "execution_count": 18,
   "metadata": {},
   "outputs": [
    {
     "data": {
      "text/plain": [
       "0"
      ]
     },
     "execution_count": 18,
     "metadata": {},
     "output_type": "execute_result"
    }
   ],
   "source": [
    "# Replace all the missing values in tenure in df_churn\n",
    "df_churn['tenure'] = df_churn['tenure'].fillna(5)\n",
    "df_churn['tenure'].isna().sum()"
   ]
  },
  {
   "cell_type": "markdown",
   "metadata": {},
   "source": [
    "Great! now we don't have any missing values to deal with."
   ]
  },
  {
   "cell_type": "markdown",
   "metadata": {},
   "source": [
    "## Look if the dataset is imbalanced <a id='look-for-imbalanced-dataset'></a>  \n",
    "[Back to Contents](#contents)"
   ]
  },
  {
   "cell_type": "markdown",
   "metadata": {},
   "source": [
    "Let's have a quick check if the dataframe - `df_churn` is balanced or not. We can plot a count plot on the column `exited` to see the balance of the distribution:"
   ]
  },
  {
   "cell_type": "code",
   "execution_count": 19,
   "metadata": {},
   "outputs": [
    {
     "data": {
      "image/png": "[encoded data removed]",
      "text/plain": [
       "<Figure size 432x288 with 1 Axes>"
      ]
     },
     "metadata": {
      "needs_background": "light"
     },
     "output_type": "display_data"
    }
   ],
   "source": [
    "# Plot a count plot\n",
    "sns_plot = sns.countplot(x='exited', data=df_churn, palette = \"Set1\", edgecolor = \"black\")\n",
    "\n",
    "sns_plot.set_title('Count of clients exited vs not exited')\n",
    "sns_plot.set_xlabel('Clients exited or not')\n",
    "sns_plot.set_ylabel('Number of clients')\n",
    "\n",
    "plt.show()"
   ]
  },
  {
   "cell_type": "code",
   "execution_count": 20,
   "metadata": {},
   "outputs": [
    {
     "data": {
      "text/plain": [
       "0    7963\n",
       "1    2037\n",
       "Name: exited, dtype: int64"
      ]
     },
     "execution_count": 20,
     "metadata": {},
     "output_type": "execute_result"
    }
   ],
   "source": [
    "df_churn['exited'].value_counts()"
   ]
  },
  {
   "cell_type": "markdown",
   "metadata": {},
   "source": [
    "We could clearly see that the dataframe - `df_churn` is having around 3 times more observations for the clients who have not exited the bank, than the ones who have. There is an imbalance in the data which will affect the way our ML models will learn from the training features."
   ]
  },
  {
   "cell_type": "markdown",
   "metadata": {},
   "source": [
    "## Remove columns not required for ML models <a id='remove-columns'></a>  \n",
    "[Back to Contents](#contents)"
   ]
  },
  {
   "cell_type": "markdown",
   "metadata": {},
   "source": [
    "Let's look at our dataframe again and get a list of all the columns it has:"
   ]
  },
  {
   "cell_type": "code",
   "execution_count": 21,
   "metadata": {},
   "outputs": [
    {
     "data": {
      "text/plain": [
       "Index(['row_number', 'customer_id', 'surname', 'credit_score', 'geography',\n",
       "       'gender', 'age', 'tenure', 'balance', 'num_of_products', 'has_cr_card',\n",
       "       'is_active_member', 'estimated_salary', 'exited'],\n",
       "      dtype='object')"
      ]
     },
     "execution_count": 21,
     "metadata": {},
     "output_type": "execute_result"
    }
   ],
   "source": [
    "# Get the list of columns in our dataframe\n",
    "df_churn.columns"
   ]
  },
  {
   "cell_type": "markdown",
   "metadata": {},
   "source": [
    "If we think, the columns - `row_number`, `customer_id` and `surname`, don't affect the reason or chances of a person leaving the bank. So, let's get rid of these columns from out dataframe - `df_churn`:"
   ]
  },
  {
   "cell_type": "code",
   "execution_count": 22,
   "metadata": {},
   "outputs": [
    {
     "data": {
      "text/plain": [
       "Index(['credit_score', 'geography', 'gender', 'age', 'tenure', 'balance',\n",
       "       'num_of_products', 'has_cr_card', 'is_active_member',\n",
       "       'estimated_salary', 'exited'],\n",
       "      dtype='object')"
      ]
     },
     "execution_count": 22,
     "metadata": {},
     "output_type": "execute_result"
    }
   ],
   "source": [
    "# Drop columns not required for ML models\n",
    "df_churn = df_churn.drop(columns=['row_number', 'customer_id', 'surname'])\n",
    "df_churn.columns"
   ]
  },
  {
   "cell_type": "markdown",
   "metadata": {},
   "source": [
    "Great! Now, we are good to go."
   ]
  },
  {
   "cell_type": "markdown",
   "metadata": {},
   "source": [
    "# 7. Transform categorical features into numerical features <a id='transform-categorical-features'></a>  \n",
    "[Back to Contents](#contents)"
   ]
  },
  {
   "cell_type": "markdown",
   "metadata": {},
   "source": [
    "Let's get a quick general information of our dataframe - `df_churn` once again:"
   ]
  },
  {
   "cell_type": "code",
   "execution_count": 23,
   "metadata": {},
   "outputs": [
    {
     "name": "stdout",
     "output_type": "stream",
     "text": [
      "<class 'pandas.core.frame.DataFrame'>\n",
      "RangeIndex: 10000 entries, 0 to 9999\n",
      "Data columns (total 11 columns):\n",
      " #   Column            Non-Null Count  Dtype  \n",
      "---  ------            --------------  -----  \n",
      " 0   credit_score      10000 non-null  int64  \n",
      " 1   geography         10000 non-null  object \n",
      " 2   gender            10000 non-null  object \n",
      " 3   age               10000 non-null  int64  \n",
      " 4   tenure            10000 non-null  float64\n",
      " 5   balance           10000 non-null  float64\n",
      " 6   num_of_products   10000 non-null  int64  \n",
      " 7   has_cr_card       10000 non-null  int64  \n",
      " 8   is_active_member  10000 non-null  int64  \n",
      " 9   estimated_salary  10000 non-null  float64\n",
      " 10  exited            10000 non-null  int64  \n",
      "dtypes: float64(3), int64(6), object(2)\n",
      "memory usage: 859.5+ KB\n"
     ]
    }
   ],
   "source": [
    "df_churn.info()"
   ]
  },
  {
   "cell_type": "markdown",
   "metadata": {},
   "source": [
    "## One-Hot Encoding for Logistic Regression <a id='ohe'></a>  \n",
    "[Back to Contents](#contents)"
   ]
  },
  {
   "cell_type": "markdown",
   "metadata": {},
   "source": [
    "Let's have a peak into the dataframe - `df_churn`:"
   ]
  },
  {
   "cell_type": "code",
   "execution_count": 24,
   "metadata": {},
   "outputs": [
    {
     "data": {
      "text/html": [
       "<div>\n",
       "<style scoped>\n",
       "    .dataframe tbody tr th:only-of-type {\n",
       "        vertical-align: middle;\n",
       "    }\n",
       "\n",
       "    .dataframe tbody tr th {\n",
       "        vertical-align: top;\n",
       "    }\n",
       "\n",
       "    .dataframe thead th {\n",
       "        text-align: right;\n",
       "    }\n",
       "</style>\n",
       "<table border=\"1\" class=\"dataframe\">\n",
       "  <thead>\n",
       "    <tr style=\"text-align: right;\">\n",
       "      <th></th>\n",
       "      <th>credit_score</th>\n",
       "      <th>geography</th>\n",
       "      <th>gender</th>\n",
       "      <th>age</th>\n",
       "      <th>tenure</th>\n",
       "      <th>balance</th>\n",
       "      <th>num_of_products</th>\n",
       "      <th>has_cr_card</th>\n",
       "      <th>is_active_member</th>\n",
       "      <th>estimated_salary</th>\n",
       "      <th>exited</th>\n",
       "    </tr>\n",
       "  </thead>\n",
       "  <tbody>\n",
       "    <tr>\n",
       "      <th>1666</th>\n",
       "      <td>611</td>\n",
       "      <td>France</td>\n",
       "      <td>Female</td>\n",
       "      <td>46</td>\n",
       "      <td>5.0</td>\n",
       "      <td>0.00</td>\n",
       "      <td>1</td>\n",
       "      <td>1</td>\n",
       "      <td>0</td>\n",
       "      <td>77677.14</td>\n",
       "      <td>1</td>\n",
       "    </tr>\n",
       "    <tr>\n",
       "      <th>7835</th>\n",
       "      <td>665</td>\n",
       "      <td>France</td>\n",
       "      <td>Female</td>\n",
       "      <td>41</td>\n",
       "      <td>8.0</td>\n",
       "      <td>96147.55</td>\n",
       "      <td>1</td>\n",
       "      <td>1</td>\n",
       "      <td>0</td>\n",
       "      <td>137037.97</td>\n",
       "      <td>0</td>\n",
       "    </tr>\n",
       "    <tr>\n",
       "      <th>5260</th>\n",
       "      <td>704</td>\n",
       "      <td>Germany</td>\n",
       "      <td>Female</td>\n",
       "      <td>35</td>\n",
       "      <td>3.0</td>\n",
       "      <td>154206.07</td>\n",
       "      <td>2</td>\n",
       "      <td>1</td>\n",
       "      <td>1</td>\n",
       "      <td>40261.49</td>\n",
       "      <td>0</td>\n",
       "    </tr>\n",
       "    <tr>\n",
       "      <th>4411</th>\n",
       "      <td>657</td>\n",
       "      <td>Spain</td>\n",
       "      <td>Male</td>\n",
       "      <td>42</td>\n",
       "      <td>5.0</td>\n",
       "      <td>41473.33</td>\n",
       "      <td>1</td>\n",
       "      <td>1</td>\n",
       "      <td>0</td>\n",
       "      <td>112979.60</td>\n",
       "      <td>1</td>\n",
       "    </tr>\n",
       "    <tr>\n",
       "      <th>3592</th>\n",
       "      <td>677</td>\n",
       "      <td>Spain</td>\n",
       "      <td>Male</td>\n",
       "      <td>56</td>\n",
       "      <td>5.0</td>\n",
       "      <td>123959.97</td>\n",
       "      <td>1</td>\n",
       "      <td>1</td>\n",
       "      <td>1</td>\n",
       "      <td>60590.72</td>\n",
       "      <td>1</td>\n",
       "    </tr>\n",
       "    <tr>\n",
       "      <th>9734</th>\n",
       "      <td>667</td>\n",
       "      <td>Germany</td>\n",
       "      <td>Male</td>\n",
       "      <td>70</td>\n",
       "      <td>3.0</td>\n",
       "      <td>77356.92</td>\n",
       "      <td>2</td>\n",
       "      <td>1</td>\n",
       "      <td>1</td>\n",
       "      <td>20881.96</td>\n",
       "      <td>0</td>\n",
       "    </tr>\n",
       "    <tr>\n",
       "      <th>8377</th>\n",
       "      <td>802</td>\n",
       "      <td>Spain</td>\n",
       "      <td>Male</td>\n",
       "      <td>40</td>\n",
       "      <td>4.0</td>\n",
       "      <td>0.00</td>\n",
       "      <td>2</td>\n",
       "      <td>1</td>\n",
       "      <td>1</td>\n",
       "      <td>81908.09</td>\n",
       "      <td>0</td>\n",
       "    </tr>\n",
       "    <tr>\n",
       "      <th>1701</th>\n",
       "      <td>792</td>\n",
       "      <td>France</td>\n",
       "      <td>Male</td>\n",
       "      <td>50</td>\n",
       "      <td>9.0</td>\n",
       "      <td>0.00</td>\n",
       "      <td>4</td>\n",
       "      <td>1</td>\n",
       "      <td>1</td>\n",
       "      <td>194700.81</td>\n",
       "      <td>1</td>\n",
       "    </tr>\n",
       "    <tr>\n",
       "      <th>319</th>\n",
       "      <td>429</td>\n",
       "      <td>France</td>\n",
       "      <td>Male</td>\n",
       "      <td>24</td>\n",
       "      <td>4.0</td>\n",
       "      <td>95741.75</td>\n",
       "      <td>1</td>\n",
       "      <td>1</td>\n",
       "      <td>0</td>\n",
       "      <td>46170.75</td>\n",
       "      <td>0</td>\n",
       "    </tr>\n",
       "    <tr>\n",
       "      <th>3374</th>\n",
       "      <td>735</td>\n",
       "      <td>Spain</td>\n",
       "      <td>Male</td>\n",
       "      <td>55</td>\n",
       "      <td>2.0</td>\n",
       "      <td>103176.62</td>\n",
       "      <td>1</td>\n",
       "      <td>0</td>\n",
       "      <td>1</td>\n",
       "      <td>163516.16</td>\n",
       "      <td>0</td>\n",
       "    </tr>\n",
       "  </tbody>\n",
       "</table>\n",
       "</div>"
      ],
      "text/plain": [
       "      credit_score geography  gender  age  tenure    balance  num_of_products  \\\n",
       "1666           611    France  Female   46     5.0       0.00                1   \n",
       "7835           665    France  Female   41     8.0   96147.55                1   \n",
       "5260           704   Germany  Female   35     3.0  154206.07                2   \n",
       "4411           657     Spain    Male   42     5.0   41473.33                1   \n",
       "3592           677     Spain    Male   56     5.0  123959.97                1   \n",
       "9734           667   Germany    Male   70     3.0   77356.92                2   \n",
       "8377           802     Spain    Male   40     4.0       0.00                2   \n",
       "1701           792    France    Male   50     9.0       0.00                4   \n",
       "319            429    France    Male   24     4.0   95741.75                1   \n",
       "3374           735     Spain    Male   55     2.0  103176.62                1   \n",
       "\n",
       "      has_cr_card  is_active_member  estimated_salary  exited  \n",
       "1666            1                 0          77677.14       1  \n",
       "7835            1                 0         137037.97       0  \n",
       "5260            1                 1          40261.49       0  \n",
       "4411            1                 0         112979.60       1  \n",
       "3592            1                 1          60590.72       1  \n",
       "9734            1                 1          20881.96       0  \n",
       "8377            1                 1          81908.09       0  \n",
       "1701            1                 1         194700.81       1  \n",
       "319             1                 0          46170.75       0  \n",
       "3374            0                 1         163516.16       0  "
      ]
     },
     "execution_count": 24,
     "metadata": {},
     "output_type": "execute_result"
    }
   ],
   "source": [
    "# Get random 10 records from the dataframe\n",
    "df_churn.sample(n=10, random_state=234578)"
   ]
  },
  {
   "cell_type": "markdown",
   "metadata": {},
   "source": [
    "**Logistic Regression determines the target using a formula consisting of numerical features**. But, as we can see above that we have two columns - `geography` and `gender` as string. Let's convert these two categorical features or columns to numerical ones by ensuring that we don't fall into dummy trap:"
   ]
  },
  {
   "cell_type": "code",
   "execution_count": 25,
   "metadata": {},
   "outputs": [
    {
     "data": {
      "text/html": [
       "<div>\n",
       "<style scoped>\n",
       "    .dataframe tbody tr th:only-of-type {\n",
       "        vertical-align: middle;\n",
       "    }\n",
       "\n",
       "    .dataframe tbody tr th {\n",
       "        vertical-align: top;\n",
       "    }\n",
       "\n",
       "    .dataframe thead th {\n",
       "        text-align: right;\n",
       "    }\n",
       "</style>\n",
       "<table border=\"1\" class=\"dataframe\">\n",
       "  <thead>\n",
       "    <tr style=\"text-align: right;\">\n",
       "      <th></th>\n",
       "      <th>credit_score</th>\n",
       "      <th>age</th>\n",
       "      <th>tenure</th>\n",
       "      <th>balance</th>\n",
       "      <th>num_of_products</th>\n",
       "      <th>has_cr_card</th>\n",
       "      <th>is_active_member</th>\n",
       "      <th>estimated_salary</th>\n",
       "      <th>exited</th>\n",
       "      <th>geography_Germany</th>\n",
       "      <th>geography_Spain</th>\n",
       "      <th>gender_Male</th>\n",
       "    </tr>\n",
       "  </thead>\n",
       "  <tbody>\n",
       "    <tr>\n",
       "      <th>1666</th>\n",
       "      <td>611</td>\n",
       "      <td>46</td>\n",
       "      <td>5.0</td>\n",
       "      <td>0.00</td>\n",
       "      <td>1</td>\n",
       "      <td>1</td>\n",
       "      <td>0</td>\n",
       "      <td>77677.14</td>\n",
       "      <td>1</td>\n",
       "      <td>0</td>\n",
       "      <td>0</td>\n",
       "      <td>0</td>\n",
       "    </tr>\n",
       "    <tr>\n",
       "      <th>7835</th>\n",
       "      <td>665</td>\n",
       "      <td>41</td>\n",
       "      <td>8.0</td>\n",
       "      <td>96147.55</td>\n",
       "      <td>1</td>\n",
       "      <td>1</td>\n",
       "      <td>0</td>\n",
       "      <td>137037.97</td>\n",
       "      <td>0</td>\n",
       "      <td>0</td>\n",
       "      <td>0</td>\n",
       "      <td>0</td>\n",
       "    </tr>\n",
       "    <tr>\n",
       "      <th>5260</th>\n",
       "      <td>704</td>\n",
       "      <td>35</td>\n",
       "      <td>3.0</td>\n",
       "      <td>154206.07</td>\n",
       "      <td>2</td>\n",
       "      <td>1</td>\n",
       "      <td>1</td>\n",
       "      <td>40261.49</td>\n",
       "      <td>0</td>\n",
       "      <td>1</td>\n",
       "      <td>0</td>\n",
       "      <td>0</td>\n",
       "    </tr>\n",
       "    <tr>\n",
       "      <th>4411</th>\n",
       "      <td>657</td>\n",
       "      <td>42</td>\n",
       "      <td>5.0</td>\n",
       "      <td>41473.33</td>\n",
       "      <td>1</td>\n",
       "      <td>1</td>\n",
       "      <td>0</td>\n",
       "      <td>112979.60</td>\n",
       "      <td>1</td>\n",
       "      <td>0</td>\n",
       "      <td>1</td>\n",
       "      <td>1</td>\n",
       "    </tr>\n",
       "    <tr>\n",
       "      <th>3592</th>\n",
       "      <td>677</td>\n",
       "      <td>56</td>\n",
       "      <td>5.0</td>\n",
       "      <td>123959.97</td>\n",
       "      <td>1</td>\n",
       "      <td>1</td>\n",
       "      <td>1</td>\n",
       "      <td>60590.72</td>\n",
       "      <td>1</td>\n",
       "      <td>0</td>\n",
       "      <td>1</td>\n",
       "      <td>1</td>\n",
       "    </tr>\n",
       "    <tr>\n",
       "      <th>9734</th>\n",
       "      <td>667</td>\n",
       "      <td>70</td>\n",
       "      <td>3.0</td>\n",
       "      <td>77356.92</td>\n",
       "      <td>2</td>\n",
       "      <td>1</td>\n",
       "      <td>1</td>\n",
       "      <td>20881.96</td>\n",
       "      <td>0</td>\n",
       "      <td>1</td>\n",
       "      <td>0</td>\n",
       "      <td>1</td>\n",
       "    </tr>\n",
       "    <tr>\n",
       "      <th>8377</th>\n",
       "      <td>802</td>\n",
       "      <td>40</td>\n",
       "      <td>4.0</td>\n",
       "      <td>0.00</td>\n",
       "      <td>2</td>\n",
       "      <td>1</td>\n",
       "      <td>1</td>\n",
       "      <td>81908.09</td>\n",
       "      <td>0</td>\n",
       "      <td>0</td>\n",
       "      <td>1</td>\n",
       "      <td>1</td>\n",
       "    </tr>\n",
       "    <tr>\n",
       "      <th>1701</th>\n",
       "      <td>792</td>\n",
       "      <td>50</td>\n",
       "      <td>9.0</td>\n",
       "      <td>0.00</td>\n",
       "      <td>4</td>\n",
       "      <td>1</td>\n",
       "      <td>1</td>\n",
       "      <td>194700.81</td>\n",
       "      <td>1</td>\n",
       "      <td>0</td>\n",
       "      <td>0</td>\n",
       "      <td>1</td>\n",
       "    </tr>\n",
       "    <tr>\n",
       "      <th>319</th>\n",
       "      <td>429</td>\n",
       "      <td>24</td>\n",
       "      <td>4.0</td>\n",
       "      <td>95741.75</td>\n",
       "      <td>1</td>\n",
       "      <td>1</td>\n",
       "      <td>0</td>\n",
       "      <td>46170.75</td>\n",
       "      <td>0</td>\n",
       "      <td>0</td>\n",
       "      <td>0</td>\n",
       "      <td>1</td>\n",
       "    </tr>\n",
       "    <tr>\n",
       "      <th>3374</th>\n",
       "      <td>735</td>\n",
       "      <td>55</td>\n",
       "      <td>2.0</td>\n",
       "      <td>103176.62</td>\n",
       "      <td>1</td>\n",
       "      <td>0</td>\n",
       "      <td>1</td>\n",
       "      <td>163516.16</td>\n",
       "      <td>0</td>\n",
       "      <td>0</td>\n",
       "      <td>1</td>\n",
       "      <td>1</td>\n",
       "    </tr>\n",
       "  </tbody>\n",
       "</table>\n",
       "</div>"
      ],
      "text/plain": [
       "      credit_score  age  tenure    balance  num_of_products  has_cr_card  \\\n",
       "1666           611   46     5.0       0.00                1            1   \n",
       "7835           665   41     8.0   96147.55                1            1   \n",
       "5260           704   35     3.0  154206.07                2            1   \n",
       "4411           657   42     5.0   41473.33                1            1   \n",
       "3592           677   56     5.0  123959.97                1            1   \n",
       "9734           667   70     3.0   77356.92                2            1   \n",
       "8377           802   40     4.0       0.00                2            1   \n",
       "1701           792   50     9.0       0.00                4            1   \n",
       "319            429   24     4.0   95741.75                1            1   \n",
       "3374           735   55     2.0  103176.62                1            0   \n",
       "\n",
       "      is_active_member  estimated_salary  exited  geography_Germany  \\\n",
       "1666                 0          77677.14       1                  0   \n",
       "7835                 0         137037.97       0                  0   \n",
       "5260                 1          40261.49       0                  1   \n",
       "4411                 0         112979.60       1                  0   \n",
       "3592                 1          60590.72       1                  0   \n",
       "9734                 1          20881.96       0                  1   \n",
       "8377                 1          81908.09       0                  0   \n",
       "1701                 1         194700.81       1                  0   \n",
       "319                  0          46170.75       0                  0   \n",
       "3374                 1         163516.16       0                  0   \n",
       "\n",
       "      geography_Spain  gender_Male  \n",
       "1666                0            0  \n",
       "7835                0            0  \n",
       "5260                0            0  \n",
       "4411                1            1  \n",
       "3592                1            1  \n",
       "9734                0            1  \n",
       "8377                1            1  \n",
       "1701                0            1  \n",
       "319                 0            1  \n",
       "3374                1            1  "
      ]
     },
     "execution_count": 25,
     "metadata": {},
     "output_type": "execute_result"
    }
   ],
   "source": [
    "# One-Hot Encoding without dummy trap\n",
    "df_churn_ohe = pd.get_dummies(df_churn, drop_first=True)\n",
    "\n",
    "# Get random 10 records from the dataframe\n",
    "df_churn_ohe.sample(n=10, random_state=234578)"
   ]
  },
  {
   "cell_type": "markdown",
   "metadata": {},
   "source": [
    "Great! We have One-Hot Encoded data into `df_churn_ohe` dataframe now that we can use it for Logistic Regression."
   ]
  },
  {
   "cell_type": "markdown",
   "metadata": {},
   "source": [
    "## Label Encoding for Tree-based ML Algorithms <a id='label-encoding'></a>  \n",
    "[Back to Contents](#contents)"
   ]
  },
  {
   "cell_type": "markdown",
   "metadata": {},
   "source": [
    "For Tree-based ML Algorithms, One-Hot Encoded data is not the best. The primary reason is that unlike regression models that have access to the whole spectrum of features at once, the tree-based model can process only one feature at a time.  \n",
    "The best approach for trees is making splits by raw categoricals but since `sklearn` doesn't support it yet, the second best approach is **Label Encoding**.  Also, since we are looking at `geography` and `gender` columns - which are **Nominal variables** as there is no significance of order in them, we are good to go with Label Encoding:"
   ]
  },
  {
   "cell_type": "code",
   "execution_count": 26,
   "metadata": {},
   "outputs": [
    {
     "data": {
      "text/html": [
       "<div>\n",
       "<style scoped>\n",
       "    .dataframe tbody tr th:only-of-type {\n",
       "        vertical-align: middle;\n",
       "    }\n",
       "\n",
       "    .dataframe tbody tr th {\n",
       "        vertical-align: top;\n",
       "    }\n",
       "\n",
       "    .dataframe thead th {\n",
       "        text-align: right;\n",
       "    }\n",
       "</style>\n",
       "<table border=\"1\" class=\"dataframe\">\n",
       "  <thead>\n",
       "    <tr style=\"text-align: right;\">\n",
       "      <th></th>\n",
       "      <th>credit_score</th>\n",
       "      <th>geography</th>\n",
       "      <th>gender</th>\n",
       "      <th>age</th>\n",
       "      <th>tenure</th>\n",
       "      <th>balance</th>\n",
       "      <th>num_of_products</th>\n",
       "      <th>has_cr_card</th>\n",
       "      <th>is_active_member</th>\n",
       "      <th>estimated_salary</th>\n",
       "      <th>exited</th>\n",
       "    </tr>\n",
       "  </thead>\n",
       "  <tbody>\n",
       "    <tr>\n",
       "      <th>1666</th>\n",
       "      <td>220.0</td>\n",
       "      <td>0.0</td>\n",
       "      <td>0.0</td>\n",
       "      <td>28.0</td>\n",
       "      <td>5.0</td>\n",
       "      <td>0.0</td>\n",
       "      <td>0.0</td>\n",
       "      <td>1.0</td>\n",
       "      <td>0.0</td>\n",
       "      <td>3850.0</td>\n",
       "      <td>1.0</td>\n",
       "    </tr>\n",
       "    <tr>\n",
       "      <th>7835</th>\n",
       "      <td>274.0</td>\n",
       "      <td>0.0</td>\n",
       "      <td>0.0</td>\n",
       "      <td>23.0</td>\n",
       "      <td>8.0</td>\n",
       "      <td>1311.0</td>\n",
       "      <td>0.0</td>\n",
       "      <td>1.0</td>\n",
       "      <td>0.0</td>\n",
       "      <td>6876.0</td>\n",
       "      <td>0.0</td>\n",
       "    </tr>\n",
       "    <tr>\n",
       "      <th>5260</th>\n",
       "      <td>313.0</td>\n",
       "      <td>1.0</td>\n",
       "      <td>0.0</td>\n",
       "      <td>17.0</td>\n",
       "      <td>3.0</td>\n",
       "      <td>5606.0</td>\n",
       "      <td>1.0</td>\n",
       "      <td>1.0</td>\n",
       "      <td>1.0</td>\n",
       "      <td>1966.0</td>\n",
       "      <td>0.0</td>\n",
       "    </tr>\n",
       "    <tr>\n",
       "      <th>4411</th>\n",
       "      <td>266.0</td>\n",
       "      <td>2.0</td>\n",
       "      <td>1.0</td>\n",
       "      <td>24.0</td>\n",
       "      <td>5.0</td>\n",
       "      <td>38.0</td>\n",
       "      <td>0.0</td>\n",
       "      <td>1.0</td>\n",
       "      <td>0.0</td>\n",
       "      <td>5655.0</td>\n",
       "      <td>1.0</td>\n",
       "    </tr>\n",
       "    <tr>\n",
       "      <th>3592</th>\n",
       "      <td>286.0</td>\n",
       "      <td>2.0</td>\n",
       "      <td>1.0</td>\n",
       "      <td>38.0</td>\n",
       "      <td>5.0</td>\n",
       "      <td>3564.0</td>\n",
       "      <td>0.0</td>\n",
       "      <td>1.0</td>\n",
       "      <td>1.0</td>\n",
       "      <td>2989.0</td>\n",
       "      <td>1.0</td>\n",
       "    </tr>\n",
       "    <tr>\n",
       "      <th>9734</th>\n",
       "      <td>276.0</td>\n",
       "      <td>1.0</td>\n",
       "      <td>1.0</td>\n",
       "      <td>52.0</td>\n",
       "      <td>3.0</td>\n",
       "      <td>491.0</td>\n",
       "      <td>1.0</td>\n",
       "      <td>1.0</td>\n",
       "      <td>1.0</td>\n",
       "      <td>1031.0</td>\n",
       "      <td>0.0</td>\n",
       "    </tr>\n",
       "    <tr>\n",
       "      <th>8377</th>\n",
       "      <td>411.0</td>\n",
       "      <td>2.0</td>\n",
       "      <td>1.0</td>\n",
       "      <td>22.0</td>\n",
       "      <td>4.0</td>\n",
       "      <td>0.0</td>\n",
       "      <td>1.0</td>\n",
       "      <td>1.0</td>\n",
       "      <td>1.0</td>\n",
       "      <td>4082.0</td>\n",
       "      <td>0.0</td>\n",
       "    </tr>\n",
       "    <tr>\n",
       "      <th>1701</th>\n",
       "      <td>401.0</td>\n",
       "      <td>0.0</td>\n",
       "      <td>1.0</td>\n",
       "      <td>32.0</td>\n",
       "      <td>9.0</td>\n",
       "      <td>0.0</td>\n",
       "      <td>3.0</td>\n",
       "      <td>1.0</td>\n",
       "      <td>1.0</td>\n",
       "      <td>9724.0</td>\n",
       "      <td>1.0</td>\n",
       "    </tr>\n",
       "    <tr>\n",
       "      <th>319</th>\n",
       "      <td>38.0</td>\n",
       "      <td>0.0</td>\n",
       "      <td>1.0</td>\n",
       "      <td>6.0</td>\n",
       "      <td>4.0</td>\n",
       "      <td>1283.0</td>\n",
       "      <td>0.0</td>\n",
       "      <td>1.0</td>\n",
       "      <td>0.0</td>\n",
       "      <td>2249.0</td>\n",
       "      <td>0.0</td>\n",
       "    </tr>\n",
       "    <tr>\n",
       "      <th>3374</th>\n",
       "      <td>344.0</td>\n",
       "      <td>2.0</td>\n",
       "      <td>1.0</td>\n",
       "      <td>37.0</td>\n",
       "      <td>2.0</td>\n",
       "      <td>1817.0</td>\n",
       "      <td>0.0</td>\n",
       "      <td>0.0</td>\n",
       "      <td>1.0</td>\n",
       "      <td>8169.0</td>\n",
       "      <td>0.0</td>\n",
       "    </tr>\n",
       "  </tbody>\n",
       "</table>\n",
       "</div>"
      ],
      "text/plain": [
       "      credit_score  geography  gender   age  tenure  balance  num_of_products  \\\n",
       "1666         220.0        0.0     0.0  28.0     5.0      0.0              0.0   \n",
       "7835         274.0        0.0     0.0  23.0     8.0   1311.0              0.0   \n",
       "5260         313.0        1.0     0.0  17.0     3.0   5606.0              1.0   \n",
       "4411         266.0        2.0     1.0  24.0     5.0     38.0              0.0   \n",
       "3592         286.0        2.0     1.0  38.0     5.0   3564.0              0.0   \n",
       "9734         276.0        1.0     1.0  52.0     3.0    491.0              1.0   \n",
       "8377         411.0        2.0     1.0  22.0     4.0      0.0              1.0   \n",
       "1701         401.0        0.0     1.0  32.0     9.0      0.0              3.0   \n",
       "319           38.0        0.0     1.0   6.0     4.0   1283.0              0.0   \n",
       "3374         344.0        2.0     1.0  37.0     2.0   1817.0              0.0   \n",
       "\n",
       "      has_cr_card  is_active_member  estimated_salary  exited  \n",
       "1666          1.0               0.0            3850.0     1.0  \n",
       "7835          1.0               0.0            6876.0     0.0  \n",
       "5260          1.0               1.0            1966.0     0.0  \n",
       "4411          1.0               0.0            5655.0     1.0  \n",
       "3592          1.0               1.0            2989.0     1.0  \n",
       "9734          1.0               1.0            1031.0     0.0  \n",
       "8377          1.0               1.0            4082.0     0.0  \n",
       "1701          1.0               1.0            9724.0     1.0  \n",
       "319           1.0               0.0            2249.0     0.0  \n",
       "3374          0.0               1.0            8169.0     0.0  "
      ]
     },
     "execution_count": 26,
     "metadata": {},
     "output_type": "execute_result"
    }
   ],
   "source": [
    "encoder = OrdinalEncoder()\n",
    "df_churn_ordinal = pd.DataFrame(encoder.fit_transform(df_churn), columns=df_churn.columns)\n",
    "df_churn_ordinal.sample(n=10, random_state=234578)"
   ]
  },
  {
   "cell_type": "markdown",
   "metadata": {},
   "source": [
    "# 8. Divide encoded dataset into target and features <a id='target-and-features'></a>  \n",
    "[Back to Contents](#contents)"
   ]
  },
  {
   "cell_type": "markdown",
   "metadata": {},
   "source": [
    "Splitting the dataset into target and features is a fundamental step in preparing the data for building predictive models. It involves separating the input data (**features**) from the output data (**target**) that we want the model to predict. In supervised learning, where the model is trained on labeled data, the target variable is typically provided in the dataset. The model learns from the relationship between the features and the target during training and uses that knowledge to make predictions or classifications on new data.  "
   ]
  },
  {
   "cell_type": "markdown",
   "metadata": {},
   "source": [
    "## One-Hot Encoded Dataset - `df_churn_ohe`\n",
    "[Back to Contents](#contents)"
   ]
  },
  {
   "cell_type": "code",
   "execution_count": 27,
   "metadata": {},
   "outputs": [
    {
     "data": {
      "text/plain": [
       "0    1\n",
       "1    0\n",
       "2    1\n",
       "3    0\n",
       "4    0\n",
       "5    1\n",
       "6    0\n",
       "7    1\n",
       "8    0\n",
       "9    0\n",
       "Name: exited, dtype: int64"
      ]
     },
     "execution_count": 27,
     "metadata": {},
     "output_type": "execute_result"
    }
   ],
   "source": [
    "ohe_target = df_churn_ohe['exited']\n",
    "ohe_target.head(10)"
   ]
  },
  {
   "cell_type": "code",
   "execution_count": 28,
   "metadata": {},
   "outputs": [
    {
     "data": {
      "text/html": [
       "<div>\n",
       "<style scoped>\n",
       "    .dataframe tbody tr th:only-of-type {\n",
       "        vertical-align: middle;\n",
       "    }\n",
       "\n",
       "    .dataframe tbody tr th {\n",
       "        vertical-align: top;\n",
       "    }\n",
       "\n",
       "    .dataframe thead th {\n",
       "        text-align: right;\n",
       "    }\n",
       "</style>\n",
       "<table border=\"1\" class=\"dataframe\">\n",
       "  <thead>\n",
       "    <tr style=\"text-align: right;\">\n",
       "      <th></th>\n",
       "      <th>credit_score</th>\n",
       "      <th>age</th>\n",
       "      <th>tenure</th>\n",
       "      <th>balance</th>\n",
       "      <th>num_of_products</th>\n",
       "      <th>has_cr_card</th>\n",
       "      <th>is_active_member</th>\n",
       "      <th>estimated_salary</th>\n",
       "      <th>geography_Germany</th>\n",
       "      <th>geography_Spain</th>\n",
       "      <th>gender_Male</th>\n",
       "    </tr>\n",
       "  </thead>\n",
       "  <tbody>\n",
       "    <tr>\n",
       "      <th>0</th>\n",
       "      <td>619</td>\n",
       "      <td>42</td>\n",
       "      <td>2.0</td>\n",
       "      <td>0.00</td>\n",
       "      <td>1</td>\n",
       "      <td>1</td>\n",
       "      <td>1</td>\n",
       "      <td>101348.88</td>\n",
       "      <td>0</td>\n",
       "      <td>0</td>\n",
       "      <td>0</td>\n",
       "    </tr>\n",
       "    <tr>\n",
       "      <th>1</th>\n",
       "      <td>608</td>\n",
       "      <td>41</td>\n",
       "      <td>1.0</td>\n",
       "      <td>83807.86</td>\n",
       "      <td>1</td>\n",
       "      <td>0</td>\n",
       "      <td>1</td>\n",
       "      <td>112542.58</td>\n",
       "      <td>0</td>\n",
       "      <td>1</td>\n",
       "      <td>0</td>\n",
       "    </tr>\n",
       "    <tr>\n",
       "      <th>2</th>\n",
       "      <td>502</td>\n",
       "      <td>42</td>\n",
       "      <td>8.0</td>\n",
       "      <td>159660.80</td>\n",
       "      <td>3</td>\n",
       "      <td>1</td>\n",
       "      <td>0</td>\n",
       "      <td>113931.57</td>\n",
       "      <td>0</td>\n",
       "      <td>0</td>\n",
       "      <td>0</td>\n",
       "    </tr>\n",
       "    <tr>\n",
       "      <th>3</th>\n",
       "      <td>699</td>\n",
       "      <td>39</td>\n",
       "      <td>1.0</td>\n",
       "      <td>0.00</td>\n",
       "      <td>2</td>\n",
       "      <td>0</td>\n",
       "      <td>0</td>\n",
       "      <td>93826.63</td>\n",
       "      <td>0</td>\n",
       "      <td>0</td>\n",
       "      <td>0</td>\n",
       "    </tr>\n",
       "    <tr>\n",
       "      <th>4</th>\n",
       "      <td>850</td>\n",
       "      <td>43</td>\n",
       "      <td>2.0</td>\n",
       "      <td>125510.82</td>\n",
       "      <td>1</td>\n",
       "      <td>1</td>\n",
       "      <td>1</td>\n",
       "      <td>79084.10</td>\n",
       "      <td>0</td>\n",
       "      <td>1</td>\n",
       "      <td>0</td>\n",
       "    </tr>\n",
       "  </tbody>\n",
       "</table>\n",
       "</div>"
      ],
      "text/plain": [
       "   credit_score  age  tenure    balance  num_of_products  has_cr_card  \\\n",
       "0           619   42     2.0       0.00                1            1   \n",
       "1           608   41     1.0   83807.86                1            0   \n",
       "2           502   42     8.0  159660.80                3            1   \n",
       "3           699   39     1.0       0.00                2            0   \n",
       "4           850   43     2.0  125510.82                1            1   \n",
       "\n",
       "   is_active_member  estimated_salary  geography_Germany  geography_Spain  \\\n",
       "0                 1         101348.88                  0                0   \n",
       "1                 1         112542.58                  0                1   \n",
       "2                 0         113931.57                  0                0   \n",
       "3                 0          93826.63                  0                0   \n",
       "4                 1          79084.10                  0                1   \n",
       "\n",
       "   gender_Male  \n",
       "0            0  \n",
       "1            0  \n",
       "2            0  \n",
       "3            0  \n",
       "4            0  "
      ]
     },
     "execution_count": 28,
     "metadata": {},
     "output_type": "execute_result"
    }
   ],
   "source": [
    "ohe_features = df_churn_ohe.drop('exited', axis=1)\n",
    "ohe_features.head()"
   ]
  },
  {
   "cell_type": "markdown",
   "metadata": {},
   "source": [
    "## Label Encoded Dataset - `df_churn_ordinal`\n",
    "[Back to Contents](#contents)"
   ]
  },
  {
   "cell_type": "code",
   "execution_count": 29,
   "metadata": {},
   "outputs": [
    {
     "data": {
      "text/plain": [
       "0    1.0\n",
       "1    0.0\n",
       "2    1.0\n",
       "3    0.0\n",
       "4    0.0\n",
       "5    1.0\n",
       "6    0.0\n",
       "7    1.0\n",
       "8    0.0\n",
       "9    0.0\n",
       "Name: exited, dtype: float64"
      ]
     },
     "execution_count": 29,
     "metadata": {},
     "output_type": "execute_result"
    }
   ],
   "source": [
    "ordinal_target = df_churn_ordinal['exited']\n",
    "ordinal_target.head(10)"
   ]
  },
  {
   "cell_type": "code",
   "execution_count": 30,
   "metadata": {},
   "outputs": [
    {
     "data": {
      "text/html": [
       "<div>\n",
       "<style scoped>\n",
       "    .dataframe tbody tr th:only-of-type {\n",
       "        vertical-align: middle;\n",
       "    }\n",
       "\n",
       "    .dataframe tbody tr th {\n",
       "        vertical-align: top;\n",
       "    }\n",
       "\n",
       "    .dataframe thead th {\n",
       "        text-align: right;\n",
       "    }\n",
       "</style>\n",
       "<table border=\"1\" class=\"dataframe\">\n",
       "  <thead>\n",
       "    <tr style=\"text-align: right;\">\n",
       "      <th></th>\n",
       "      <th>credit_score</th>\n",
       "      <th>geography</th>\n",
       "      <th>gender</th>\n",
       "      <th>age</th>\n",
       "      <th>tenure</th>\n",
       "      <th>balance</th>\n",
       "      <th>num_of_products</th>\n",
       "      <th>has_cr_card</th>\n",
       "      <th>is_active_member</th>\n",
       "      <th>estimated_salary</th>\n",
       "    </tr>\n",
       "  </thead>\n",
       "  <tbody>\n",
       "    <tr>\n",
       "      <th>0</th>\n",
       "      <td>228.0</td>\n",
       "      <td>0.0</td>\n",
       "      <td>0.0</td>\n",
       "      <td>24.0</td>\n",
       "      <td>2.0</td>\n",
       "      <td>0.0</td>\n",
       "      <td>0.0</td>\n",
       "      <td>1.0</td>\n",
       "      <td>1.0</td>\n",
       "      <td>5068.0</td>\n",
       "    </tr>\n",
       "    <tr>\n",
       "      <th>1</th>\n",
       "      <td>217.0</td>\n",
       "      <td>2.0</td>\n",
       "      <td>0.0</td>\n",
       "      <td>23.0</td>\n",
       "      <td>1.0</td>\n",
       "      <td>743.0</td>\n",
       "      <td>0.0</td>\n",
       "      <td>0.0</td>\n",
       "      <td>1.0</td>\n",
       "      <td>5639.0</td>\n",
       "    </tr>\n",
       "    <tr>\n",
       "      <th>2</th>\n",
       "      <td>111.0</td>\n",
       "      <td>0.0</td>\n",
       "      <td>0.0</td>\n",
       "      <td>24.0</td>\n",
       "      <td>8.0</td>\n",
       "      <td>5793.0</td>\n",
       "      <td>2.0</td>\n",
       "      <td>1.0</td>\n",
       "      <td>0.0</td>\n",
       "      <td>5707.0</td>\n",
       "    </tr>\n",
       "    <tr>\n",
       "      <th>3</th>\n",
       "      <td>308.0</td>\n",
       "      <td>0.0</td>\n",
       "      <td>0.0</td>\n",
       "      <td>21.0</td>\n",
       "      <td>1.0</td>\n",
       "      <td>0.0</td>\n",
       "      <td>1.0</td>\n",
       "      <td>0.0</td>\n",
       "      <td>0.0</td>\n",
       "      <td>4704.0</td>\n",
       "    </tr>\n",
       "    <tr>\n",
       "      <th>4</th>\n",
       "      <td>459.0</td>\n",
       "      <td>2.0</td>\n",
       "      <td>0.0</td>\n",
       "      <td>25.0</td>\n",
       "      <td>2.0</td>\n",
       "      <td>3696.0</td>\n",
       "      <td>0.0</td>\n",
       "      <td>1.0</td>\n",
       "      <td>1.0</td>\n",
       "      <td>3925.0</td>\n",
       "    </tr>\n",
       "  </tbody>\n",
       "</table>\n",
       "</div>"
      ],
      "text/plain": [
       "   credit_score  geography  gender   age  tenure  balance  num_of_products  \\\n",
       "0         228.0        0.0     0.0  24.0     2.0      0.0              0.0   \n",
       "1         217.0        2.0     0.0  23.0     1.0    743.0              0.0   \n",
       "2         111.0        0.0     0.0  24.0     8.0   5793.0              2.0   \n",
       "3         308.0        0.0     0.0  21.0     1.0      0.0              1.0   \n",
       "4         459.0        2.0     0.0  25.0     2.0   3696.0              0.0   \n",
       "\n",
       "   has_cr_card  is_active_member  estimated_salary  \n",
       "0          1.0               1.0            5068.0  \n",
       "1          0.0               1.0            5639.0  \n",
       "2          1.0               0.0            5707.0  \n",
       "3          0.0               0.0            4704.0  \n",
       "4          1.0               1.0            3925.0  "
      ]
     },
     "execution_count": 30,
     "metadata": {},
     "output_type": "execute_result"
    }
   ],
   "source": [
    "ordinal_features = df_churn_ordinal.drop('exited', axis=1)\n",
    "ordinal_features.head()"
   ]
  },
  {
   "cell_type": "markdown",
   "metadata": {},
   "source": [
    "# 9. Divide target and features into train, validation & test set <a id='train-valid-test'></a>  \n",
    "[Back to Contents](#contents)"
   ]
  },
  {
   "cell_type": "markdown",
   "metadata": {},
   "source": [
    "Awesome! In machine learning, it is common practice to split the available data into three separate sets: the **training set**, the **validation set**, and the **test set**. Each set serves a specific purpose in the model development and evaluation process. Here's a breakdown of each set:  \n",
    "\n",
    "1. **Training Set**:  \n",
    "The training set is the largest portion of the dataset used to train the machine learning model. It contains input features and their corresponding target values. The model learns patterns and relationships between the features and the target by optimizing its parameters or weights based on this training data. The training set is crucial for the model to capture the underlying patterns in the data and generalize well to unseen instances.\n",
    "\n",
    "2. **Validation Set**:\n",
    "The validation set is used during the model development process to tune hyperparameters and evaluate the model's performance. The validation set helps to assess the generalization ability of the model and avoid overfitting (when the model performs well on the training data but poorly on new data). It provides an unbiased estimate of the model's performance and helps in making decisions on model improvements or hyperparameter adjustments.\n",
    "\n",
    "3. **Test Set**:\n",
    "The test set is a separate portion of the dataset that is used to evaluate the final performance of the trained model. It serves as an unbiased evaluation of the model's ability to generalize to new, unseen data. The test set should be representative of the real-world data that the model is expected to perform on. It should not be used during model development or hyperparameter tuning to ensure an unbiased assessment.  \n",
    "\n",
    "**It is important to note that the data should be split randomly and in a stratified manner if the dataset is imbalanced, ensuring that the distribution of target classes is maintained across the different sets**. We will look into the imbalance issues in a while.\n",
    "\n",
    "In short, the training set is used to train the model, the validation set is used to tune hyperparameters and evaluate model performance, and the test set is used for the final unbiased evaluation of the trained model's performance.  \n",
    "\n",
    "Now, we need to split the source data i.e. `features` and `target` into a training set (`features_train`, `target_train`), a validation set (`features_valid`, `target_valid`), and a test set (`features_test`, `target_test`). In order to split the data we will use `train_test_split` method from `sklearn.model_selection` module. And to make sure that the data split is random, we should use `random_state` paramter.  \n",
    "\n",
    "But the question is what should be the proportion of split for each category? The proportion of data split for each category (training set, validation set, and test set) is a matter of choice and can depend on various factors such as the size of the dataset, the complexity of the problem, and the availability of data. The common rule is to split data in `3:1:1` proportion:"
   ]
  },
  {
   "cell_type": "code",
   "execution_count": 31,
   "metadata": {},
   "outputs": [],
   "source": [
    "# Decide on a value for random state\n",
    "rand_state = 5678989"
   ]
  },
  {
   "cell_type": "markdown",
   "metadata": {},
   "source": [
    "## One-Hot Encoded Dataset - `ohe_target` & `ohe_features`\n",
    "[Back to Contents](#contents)"
   ]
  },
  {
   "cell_type": "code",
   "execution_count": 32,
   "metadata": {},
   "outputs": [],
   "source": [
    "# Split the source dataset - ohe_features and ohe_target into two parts - 60% and 40%\n",
    "# 60% split set will become the training dataset\n",
    "# 40% split set will be used to get the validation set and test set\n",
    "ohe_features_train, ohe_features_remaining, ohe_target_train, ohe_target_remaining = train_test_split(ohe_features, ohe_target, test_size=0.4, random_state=rand_state)"
   ]
  },
  {
   "cell_type": "code",
   "execution_count": 33,
   "metadata": {},
   "outputs": [
    {
     "data": {
      "text/plain": [
       "(6000, 11)"
      ]
     },
     "execution_count": 33,
     "metadata": {},
     "output_type": "execute_result"
    }
   ],
   "source": [
    "# Get the total number of observations in ohe_features_train\n",
    "ohe_features_train.shape"
   ]
  },
  {
   "cell_type": "code",
   "execution_count": 34,
   "metadata": {},
   "outputs": [
    {
     "data": {
      "text/plain": [
       "(6000,)"
      ]
     },
     "execution_count": 34,
     "metadata": {},
     "output_type": "execute_result"
    }
   ],
   "source": [
    "# Get the total number of observations in ohe_target_train\n",
    "ohe_target_train.shape"
   ]
  },
  {
   "cell_type": "code",
   "execution_count": 35,
   "metadata": {},
   "outputs": [],
   "source": [
    "# Split the remaining dataset - ohe_features_remaining and ohe_target_remaining into two equal parts\n",
    "# The first split set will become the validation dataset\n",
    "# The second split set will become the test dataset\n",
    "ohe_features_valid, ohe_features_test, ohe_target_valid, ohe_target_test = train_test_split(ohe_features_remaining, ohe_target_remaining, test_size=0.5, random_state=rand_state)"
   ]
  },
  {
   "cell_type": "code",
   "execution_count": 36,
   "metadata": {},
   "outputs": [
    {
     "data": {
      "text/plain": [
       "(2000, 11)"
      ]
     },
     "execution_count": 36,
     "metadata": {},
     "output_type": "execute_result"
    }
   ],
   "source": [
    "# Get the total number of observations in ohe_features_valid\n",
    "ohe_features_valid.shape"
   ]
  },
  {
   "cell_type": "code",
   "execution_count": 37,
   "metadata": {},
   "outputs": [
    {
     "data": {
      "text/plain": [
       "(2000,)"
      ]
     },
     "execution_count": 37,
     "metadata": {},
     "output_type": "execute_result"
    }
   ],
   "source": [
    "# Get the total number of observations in ohe_target_valid\n",
    "ohe_target_valid.shape"
   ]
  },
  {
   "cell_type": "code",
   "execution_count": 38,
   "metadata": {},
   "outputs": [
    {
     "data": {
      "text/plain": [
       "(2000, 11)"
      ]
     },
     "execution_count": 38,
     "metadata": {},
     "output_type": "execute_result"
    }
   ],
   "source": [
    "# Get the total number of observations in ohe_features_test\n",
    "ohe_features_test.shape"
   ]
  },
  {
   "cell_type": "code",
   "execution_count": 39,
   "metadata": {},
   "outputs": [
    {
     "data": {
      "text/plain": [
       "(2000,)"
      ]
     },
     "execution_count": 39,
     "metadata": {},
     "output_type": "execute_result"
    }
   ],
   "source": [
    "# Get the total number of observations in ohe_target_test\n",
    "ohe_target_test.shape"
   ]
  },
  {
   "cell_type": "markdown",
   "metadata": {},
   "source": [
    "Great! Now, we have our One-Hot Encoded `features` and `target` divided into train, validation and test datasets."
   ]
  },
  {
   "cell_type": "markdown",
   "metadata": {},
   "source": [
    "## Label Encoded Dataset - `ordinal_target` & `ordinal_features`\n",
    "[Back to Contents](#contents)"
   ]
  },
  {
   "cell_type": "markdown",
   "metadata": {},
   "source": [
    "Now, let's do the same for the Label Encoded `feature` and `target`:"
   ]
  },
  {
   "cell_type": "code",
   "execution_count": 40,
   "metadata": {},
   "outputs": [],
   "source": [
    "# Split the source dataset - ordinal_features and ordinal_target into two parts - 60% and 40%\n",
    "# 60% split set will become the training dataset\n",
    "# 40% split set will be used to get the validation set and test set\n",
    "ordinal_features_train, ordinal_features_remaining, ordinal_target_train, ordinal_target_remaining = train_test_split(ordinal_features, ordinal_target, test_size=0.4, random_state=rand_state)"
   ]
  },
  {
   "cell_type": "code",
   "execution_count": 41,
   "metadata": {},
   "outputs": [
    {
     "data": {
      "text/plain": [
       "(6000, 10)"
      ]
     },
     "execution_count": 41,
     "metadata": {},
     "output_type": "execute_result"
    }
   ],
   "source": [
    "# Get the total number of observations in ordinal_features_train\n",
    "ordinal_features_train.shape"
   ]
  },
  {
   "cell_type": "code",
   "execution_count": 42,
   "metadata": {},
   "outputs": [
    {
     "data": {
      "text/plain": [
       "(6000,)"
      ]
     },
     "execution_count": 42,
     "metadata": {},
     "output_type": "execute_result"
    }
   ],
   "source": [
    "# Get the total number of observations in ordinal_target_train\n",
    "ordinal_target_train.shape"
   ]
  },
  {
   "cell_type": "code",
   "execution_count": 43,
   "metadata": {},
   "outputs": [],
   "source": [
    "# Split the remaining dataset - ordinal_features_remaining and ordinal_target_remaining into two equal parts\n",
    "# The first split set will become the validation dataset\n",
    "# The second split set will become the test dataset\n",
    "ordinal_features_valid, ordinal_features_test, ordinal_target_valid, ordinal_target_test = train_test_split(ordinal_features_remaining, ordinal_target_remaining, test_size=0.5, random_state=rand_state)"
   ]
  },
  {
   "cell_type": "code",
   "execution_count": 44,
   "metadata": {},
   "outputs": [
    {
     "data": {
      "text/plain": [
       "(2000, 10)"
      ]
     },
     "execution_count": 44,
     "metadata": {},
     "output_type": "execute_result"
    }
   ],
   "source": [
    "# Get the total number of observations in ordinal_features_valid\n",
    "ordinal_features_valid.shape"
   ]
  },
  {
   "cell_type": "code",
   "execution_count": 45,
   "metadata": {},
   "outputs": [
    {
     "data": {
      "text/plain": [
       "(2000,)"
      ]
     },
     "execution_count": 45,
     "metadata": {},
     "output_type": "execute_result"
    }
   ],
   "source": [
    "# Get the total number of observations in ordinal_target_valid\n",
    "ordinal_target_valid.shape"
   ]
  },
  {
   "cell_type": "code",
   "execution_count": 46,
   "metadata": {},
   "outputs": [
    {
     "data": {
      "text/plain": [
       "(2000, 10)"
      ]
     },
     "execution_count": 46,
     "metadata": {},
     "output_type": "execute_result"
    }
   ],
   "source": [
    "# Get the total number of observations in ordinal_features_test\n",
    "ordinal_features_test.shape"
   ]
  },
  {
   "cell_type": "code",
   "execution_count": 47,
   "metadata": {},
   "outputs": [
    {
     "data": {
      "text/plain": [
       "(2000,)"
      ]
     },
     "execution_count": 47,
     "metadata": {},
     "output_type": "execute_result"
    }
   ],
   "source": [
    "# Get the total number of observations in ordinal_target_test\n",
    "ordinal_target_test.shape"
   ]
  },
  {
   "cell_type": "markdown",
   "metadata": {},
   "source": [
    "Great! Now, we have our Label Encoded `features` and `target` divided into train, validation and test datasets."
   ]
  },
  {
   "cell_type": "markdown",
   "metadata": {},
   "source": [
    "# 10. Feature scaling of train, validation & test set <a id='feature-scaling'></a>  \n",
    "[Back to Contents](#contents)"
   ]
  },
  {
   "cell_type": "markdown",
   "metadata": {},
   "source": [
    "Feature scaling is an important preprocessing step in machine learning. Scaling the features ensures that all input variables are on a similar scale, preventing some features from dominating others in the model training process. When dealing with numerical features with different ranges or units, feature scaling becomes necessary to achieve better model performance and convergence.  \n",
    "\n",
    "The `StandardScaler` from the `sklearn.preprocessing` module in `scikit-learn` is a feature scaling technique used to standardize numerical features. Standardization transforms the features so that they have a mean of 0 and a standard deviation of 1. This process is essential for algorithms that rely on distance-based calculations or gradient-based optimization, as it ensures that all features are on a similar scale.\n",
    "\n",
    "**Key points about `StandardScaler`**:\n",
    "\n",
    "1. **Fit and Transform**: The `StandardScaler` is an instance of a transformer in `scikit-learn`. It follows the same fit and transform paradigm as other preprocessing techniques. First, it is fitted to the training data using the `fit()` method to compute the mean and standard deviation of each feature. Then, the `transform()` method is used to transform the training data and any subsequent data using the computed mean and standard deviation.\n",
    "\n",
    "2. **Standardized Features**: After applying the `StandardScaler`, each feature in the dataset will have a mean of 0 and a standard deviation of 1.\n",
    "\n",
    "3. **No Impact on Categorical Features**: The `StandardScaler` should only be used for numerical features. It does not affect categorical features or features that have a constant value across all samples."
   ]
  },
  {
   "cell_type": "code",
   "execution_count": 48,
   "metadata": {},
   "outputs": [],
   "source": [
    "# Get all the numeric columns\n",
    "numeric_cols = ['credit_score', 'age', 'tenure', 'balance', 'num_of_products', 'estimated_salary']"
   ]
  },
  {
   "cell_type": "code",
   "execution_count": 49,
   "metadata": {},
   "outputs": [],
   "source": [
    "scaler = StandardScaler()"
   ]
  },
  {
   "cell_type": "markdown",
   "metadata": {},
   "source": [
    "## One-Hot Encoded Dataset\n",
    "[Back to Contents](#contents)"
   ]
  },
  {
   "cell_type": "code",
   "execution_count": 50,
   "metadata": {},
   "outputs": [
    {
     "data": {
      "text/plain": [
       "StandardScaler()"
      ]
     },
     "execution_count": 50,
     "metadata": {},
     "output_type": "execute_result"
    }
   ],
   "source": [
    "scaler.fit(ohe_features_train[numeric_cols])"
   ]
  },
  {
   "cell_type": "code",
   "execution_count": 51,
   "metadata": {},
   "outputs": [],
   "source": [
    "# Scaling the features\n",
    "pd.options.mode.chained_assignment = None\n",
    "ohe_features_train[numeric_cols] = scaler.transform(ohe_features_train[numeric_cols])\n",
    "ohe_features_valid[numeric_cols] = scaler.transform(ohe_features_valid[numeric_cols])\n",
    "ohe_features_test[numeric_cols] = scaler.transform(ohe_features_test[numeric_cols])"
   ]
  },
  {
   "cell_type": "markdown",
   "metadata": {},
   "source": [
    "## Label Encoded Dataset\n",
    "[Back to Contents](#contents)"
   ]
  },
  {
   "cell_type": "code",
   "execution_count": 52,
   "metadata": {},
   "outputs": [
    {
     "data": {
      "text/plain": [
       "StandardScaler()"
      ]
     },
     "execution_count": 52,
     "metadata": {},
     "output_type": "execute_result"
    }
   ],
   "source": [
    "scaler.fit(ordinal_features_train[numeric_cols])"
   ]
  },
  {
   "cell_type": "code",
   "execution_count": 53,
   "metadata": {},
   "outputs": [],
   "source": [
    "# Scaling the features\n",
    "pd.options.mode.chained_assignment = None\n",
    "ordinal_features_train[numeric_cols] = scaler.transform(ordinal_features_train[numeric_cols])\n",
    "ordinal_features_valid[numeric_cols] = scaler.transform(ordinal_features_valid[numeric_cols])\n",
    "ordinal_features_test[numeric_cols] = scaler.transform(ordinal_features_test[numeric_cols])"
   ]
  },
  {
   "cell_type": "markdown",
   "metadata": {},
   "source": [
    "# 11. Train the models without taking into account the imbalance <a id='train-with-class-imbalance'></a>  \n",
    "[Back to Contents](#contents)"
   ]
  },
  {
   "cell_type": "markdown",
   "metadata": {},
   "source": [
    "## Decision Tree Classifier Model\n",
    "[Back to Contents](#contents)"
   ]
  },
  {
   "cell_type": "code",
   "execution_count": 54,
   "metadata": {},
   "outputs": [
    {
     "data": {
      "text/plain": [
       "['best_decision_tree_classifier_model.joblib']"
      ]
     },
     "execution_count": 54,
     "metadata": {},
     "output_type": "execute_result"
    }
   ],
   "source": [
    "best_decision_tree_classifier_model = None\n",
    "best_f1_score = 0\n",
    "max_depth = 0\n",
    "\n",
    "# Change max_depth hyperparameter from 1 to 10 & find at what depth the model is the most accurate\n",
    "for depth in range(1, 11):\n",
    "    # Instantiate a model with max_depth = depth\n",
    "    current_decision_tree_classifier_model = DecisionTreeClassifier(max_depth=depth, random_state=rand_state)\n",
    "\n",
    "    # Train the model using training set\n",
    "    current_decision_tree_classifier_model.fit(ordinal_features_train, ordinal_target_train)\n",
    "\n",
    "    # Predict the target using the validation set features\n",
    "    current_predictions = current_decision_tree_classifier_model.predict(ordinal_features_valid)\n",
    "    \n",
    "    # Check the f1-score of the predictions\n",
    "    current_f1_score = f1_score(ordinal_target_valid, current_predictions)\n",
    "    \n",
    "    # Check for the best model until the current iteration\n",
    "    if(best_f1_score < current_f1_score):\n",
    "        best_f1_score = current_f1_score\n",
    "        max_depth = depth\n",
    "        best_decision_tree_classifier_model = current_decision_tree_classifier_model\n",
    "\n",
    "# Save the best Decision Tree Classifer model\n",
    "dump(best_decision_tree_classifier_model, 'best_decision_tree_classifier_model.joblib')"
   ]
  },
  {
   "cell_type": "code",
   "execution_count": 55,
   "metadata": {
    "scrolled": false
   },
   "outputs": [
    {
     "name": "stdout",
     "output_type": "stream",
     "text": [
      "The best Decision Tree Classifer model is of depth 9 with the following scores: \n",
      "Accuracy Score on Training Set: 0.8925\n",
      "Accuracy Score on Validation Set: 0.833\n",
      "Recall Score on Validation Set: 0.43532338308457713\n",
      "Precision Score on Validation Set: 0.6205673758865248\n",
      "F1 Score on Validation Set: 0.5116959064327485\n"
     ]
    },
    {
     "data": {
      "image/png": "[encoded data removed]",
      "text/plain": [
       "<Figure size 648x648 with 2 Axes>"
      ]
     },
     "metadata": {
      "needs_background": "light"
     },
     "output_type": "display_data"
    }
   ],
   "source": [
    "# Load the best Decision Tree Classifier model\n",
    "decision_tree_classifier_model = load('best_decision_tree_classifier_model.joblib')\n",
    "\n",
    "# Predict the target using the validation set features for the best model\n",
    "predictions_train = decision_tree_classifier_model.predict(ordinal_features_train)\n",
    "predictions_valid = decision_tree_classifier_model.predict(ordinal_features_valid)\n",
    "\n",
    "# Calculate accuracy score of the the best model\n",
    "accuracy_score_train = accuracy_score(ordinal_target_train, predictions_train)\n",
    "accuracy_score_valid = accuracy_score(ordinal_target_valid, predictions_valid)\n",
    "\n",
    "# Calculate recall_score of the the best model\n",
    "recall_score_valid = recall_score(ordinal_target_valid, predictions_valid)\n",
    "\n",
    "# Calculate precision_score of the the best model\n",
    "precision_score_valid = precision_score(ordinal_target_valid, predictions_valid)\n",
    "\n",
    "# Calculate consfusion matrix of the the best model\n",
    "conf_matrix = confusion_matrix(ordinal_target_valid, predictions_valid)\n",
    "\n",
    "# Print out the results\n",
    "print(f'The best Decision Tree Classifer model is of depth {max_depth} with the following scores: ')\n",
    "print(f'Accuracy Score on Training Set: {accuracy_score_train}')\n",
    "print(f'Accuracy Score on Validation Set: {accuracy_score_valid}')\n",
    "print(f'Recall Score on Validation Set: {recall_score_valid}')\n",
    "print(f'Precision Score on Validation Set: {precision_score_valid}')\n",
    "print(f'F1 Score on Validation Set: {best_f1_score}')\n",
    "\n",
    "# Plot the confusion matrix above in a heat map\n",
    "plt.figure(figsize=(9,9))\n",
    "sns.heatmap(conf_matrix, annot=True, fmt='.3f', linewidths=.5, square=True, cmap='Reds_r')\n",
    "plt.ylabel('Actual label')\n",
    "plt.xlabel('Predicted label')\n",
    "plot_title = f'Accuracy Score: {accuracy_score_valid}'\n",
    "plt.title(plot_title, size=15)\n",
    "plt.show()"
   ]
  },
  {
   "cell_type": "code",
   "execution_count": 56,
   "metadata": {},
   "outputs": [
    {
     "data": {
      "image/png": "[encoded data removed]",
      "text/plain": [
       "<Figure size 432x288 with 1 Axes>"
      ]
     },
     "metadata": {
      "needs_background": "light"
     },
     "output_type": "display_data"
    }
   ],
   "source": [
    "# Calculate True Positive Rate & False Positive Rate for the model\n",
    "probabilities_valid = decision_tree_classifier_model.predict_proba(ordinal_features_valid)\n",
    "probabilities_one_valid = probabilities_valid[:, 1]\n",
    "fpr, tpr, thresholds = roc_curve(ordinal_target_valid, probabilities_one_valid)\n",
    "\n",
    "# Plot ROC Curve\n",
    "plt.figure()\n",
    "plt.plot(fpr, tpr)\n",
    "plt.plot([0, 1], [0, 1], linestyle='--')\n",
    "plt.xlim([0.0, 1.0])\n",
    "plt.ylim([0.0, 1.0])\n",
    "plt.xlabel('False Positive Rate')\n",
    "plt.ylabel('True Positive Rate')\n",
    "plt.title('ROC curve')\n",
    "plt.show()"
   ]
  },
  {
   "cell_type": "code",
   "execution_count": 57,
   "metadata": {},
   "outputs": [
    {
     "name": "stdout",
     "output_type": "stream",
     "text": [
      "The AUC-ROC metric for the model is 0.7795386334908685\n"
     ]
    }
   ],
   "source": [
    "# Calculate AUC Score for the model\n",
    "auc_roc = roc_auc_score(ordinal_target_valid, probabilities_one_valid)\n",
    "print(f'The AUC-ROC metric for the model is {auc_roc}')"
   ]
  },
  {
   "cell_type": "markdown",
   "metadata": {},
   "source": [
    "Based on the above results for the **Decision Tree Classifier** model, we can draw the following conclusions:\n",
    "\n",
    "1. **Accuracy Score**: The model achieved an accuracy of approximately `89.25%` on the training set and `83.3%` on the validation set. While the accuracy is reasonably high, it may not be the most reliable metric to evaluate the model's performance, especially when dealing with imbalanced datasets, as is the case here.\n",
    "\n",
    "2. **Recall Score**: The recall score on the validation set is approximately `43.53%`. Recall measures the ability of the model to correctly identify positive cases (churners) out of all actual positive cases. In this context, the recall score indicates that the model can identify around 43.53% of the customers who actually churned. While this is not particularly high, it suggests that the model can detect some of the churners, but there is still room for improvement.\n",
    "\n",
    "3. **Precision Score**: The precision score on the validation set is approximately `62.06%`. Precision measures the proportion of correctly predicted positive cases (churners) out of all predicted positive cases. A precision score of `62.06%` indicates that when the model predicts a customer to churn, it is correct about 62.06% of the time. This suggests that the model's predictions are reasonably accurate when it comes to identifying churners.\n",
    "\n",
    "4. **F1 Score**: The F1 score on the validation set is approximately `51.17%`. The F1 score is a useful metric for imbalanced datasets, as it considers both false positives and false negatives. A score of 51.17% indicates a reasonable balance between precision and recall, but there is still room for improvement.\n",
    "\n",
    "5. **Confusion Matrix**: The confusion matrix shows the model's performance in terms of true positives (TP), false positives (FP), true negatives (TN), and false negatives (FN). The top-left cell represents true negatives (TN), indicating **1491 customers were correctly classified as non-churners**. The top-right cell represents false positives (FP), indicating **107 customers were incorrectly classified as churners**. The bottom-left cell represents false negatives (FN), indicating **227 customers were incorrectly classified as non-churners**. The bottom-right cell represents true positives (TP), indicating **175 customers were correctly classified as churners**.  \n",
    "\n",
    "In summary, the **Decision Tree Classifier model** is showing some level of performance in identifying churners, as evident from the precision, recall, and F1 scores. However, there is clear class imbalance, which affects the model's ability to predict churn effectively."
   ]
  },
  {
   "cell_type": "markdown",
   "metadata": {},
   "source": [
    "## Random Forest Classifier Model\n",
    "[Back to Contents](#contents)"
   ]
  },
  {
   "cell_type": "code",
   "execution_count": 58,
   "metadata": {},
   "outputs": [
    {
     "data": {
      "text/plain": [
       "['best_random_forest_classifier_model.joblib']"
      ]
     },
     "execution_count": 58,
     "metadata": {},
     "output_type": "execute_result"
    }
   ],
   "source": [
    "best_random_forest_classifier_model = None\n",
    "best_f1_score = 0\n",
    "best_no_of_estimators = 0\n",
    "max_depth = 0\n",
    "\n",
    "# Change n_estimators hyperparameter from 10 to 80 (increment by 10 steps)\n",
    "# And find how many number of trees the ensemble should have for the model to be the most accurate\n",
    "for no_of_estimators in range(10, 90, 10):\n",
    "    for depth in range(1, 11):\n",
    "        # Instantiate a model with n_estimators = no_of_estimators (used to set number of trees in the ensemble)\n",
    "        current_random_forest_classifier_model = RandomForestClassifier(n_estimators=no_of_estimators, max_depth=depth, random_state=3478981)\n",
    "\n",
    "        # Train the model using training set\n",
    "        current_random_forest_classifier_model.fit(ordinal_features_train, ordinal_target_train)\n",
    "\n",
    "        # Predict the target using the validation set features\n",
    "        current_predictions = current_random_forest_classifier_model.predict(ordinal_features_valid)\n",
    "\n",
    "        # Check the f1-score of the predictions\n",
    "        current_f1_score = f1_score(ordinal_target_valid, current_predictions)\n",
    "\n",
    "        # Check for the best accurate model until the current iteration\n",
    "        if(best_f1_score < current_f1_score):\n",
    "            best_f1_score = current_f1_score\n",
    "            best_no_of_estimators = no_of_estimators\n",
    "            max_depth = depth\n",
    "            best_random_forest_classifier_model = current_random_forest_classifier_model\n",
    "\n",
    "# Save the best Random Tree Classifer model\n",
    "dump(best_random_forest_classifier_model, 'best_random_forest_classifier_model.joblib')\n"
   ]
  },
  {
   "cell_type": "code",
   "execution_count": 59,
   "metadata": {
    "scrolled": false
   },
   "outputs": [
    {
     "name": "stdout",
     "output_type": "stream",
     "text": [
      "The best Random Forest Classifier model is of 80 no of trees with max depth of 10 with the following scores: \n",
      "Accuracy Score on Training Set: 0.9063333333333333\n",
      "Accuracy Score on Validation Set: 0.8575\n",
      "Recall Score on Validation Set: 0.40049751243781095\n",
      "Precision Score on Validation Set: 0.7853658536585366\n",
      "F1 Score on Validation Set: 0.5304777594728172\n"
     ]
    },
    {
     "data": {
      "image/png": "[encoded data removed]",
      "text/plain": [
       "<Figure size 648x648 with 2 Axes>"
      ]
     },
     "metadata": {
      "needs_background": "light"
     },
     "output_type": "display_data"
    }
   ],
   "source": [
    "# Load the best Random Forest Classifier model\n",
    "random_forest_classifier_model = load('best_random_forest_classifier_model.joblib')\n",
    "\n",
    "# Predict the target using the validation set features for the best model\n",
    "predictions_train = random_forest_classifier_model.predict(ordinal_features_train)\n",
    "predictions_valid = random_forest_classifier_model.predict(ordinal_features_valid)\n",
    "\n",
    "# Calculate accuracy score of the the best model\n",
    "accuracy_score_train = accuracy_score(ordinal_target_train, predictions_train)\n",
    "accuracy_score_valid = accuracy_score(ordinal_target_valid, predictions_valid)\n",
    "\n",
    "# Calculate recall_score of the the best model\n",
    "recall_score_valid = recall_score(ordinal_target_valid, predictions_valid)\n",
    "\n",
    "# Calculate precision_score of the the best model\n",
    "precision_score_valid = precision_score(ordinal_target_valid, predictions_valid)\n",
    "\n",
    "# Calculate consfusion matrix of the the best model\n",
    "conf_matrix = confusion_matrix(ordinal_target_valid, predictions_valid)\n",
    "\n",
    "# Print out the results\n",
    "print(f'The best Random Forest Classifier model is of {no_of_estimators} no of trees with max depth of {max_depth} with the following scores: ')\n",
    "print(f'Accuracy Score on Training Set: {accuracy_score_train}')\n",
    "print(f'Accuracy Score on Validation Set: {accuracy_score_valid}')\n",
    "print(f'Recall Score on Validation Set: {recall_score_valid}')\n",
    "print(f'Precision Score on Validation Set: {precision_score_valid}')\n",
    "print(f'F1 Score on Validation Set: {best_f1_score}')\n",
    "\n",
    "# Plot the confusion matrix above in a heat map\n",
    "plt.figure(figsize=(9,9))\n",
    "sns.heatmap(conf_matrix, annot=True, fmt='.3f', linewidths=.5, square=True, cmap='Greens_r')\n",
    "plt.ylabel('Actual label')\n",
    "plt.xlabel('Predicted label')\n",
    "plot_title = f'Accuracy Score: {accuracy_score_valid}'\n",
    "plt.title(plot_title, size=15)\n",
    "plt.show()"
   ]
  },
  {
   "cell_type": "code",
   "execution_count": 60,
   "metadata": {},
   "outputs": [
    {
     "data": {
      "image/png": "[encoded data removed]",
      "text/plain": [
       "<Figure size 432x288 with 1 Axes>"
      ]
     },
     "metadata": {
      "needs_background": "light"
     },
     "output_type": "display_data"
    }
   ],
   "source": [
    "# Calculate True Positive Rate & False Positive Rate for the model\n",
    "probabilities_valid = random_forest_classifier_model.predict_proba(ordinal_features_valid)\n",
    "probabilities_one_valid = probabilities_valid[:, 1]\n",
    "fpr, tpr, thresholds = roc_curve(ordinal_target_valid, probabilities_one_valid)\n",
    "\n",
    "# Plot ROC Curve\n",
    "plt.figure()\n",
    "plt.plot(fpr, tpr)\n",
    "plt.plot([0, 1], [0, 1], linestyle='--')\n",
    "plt.xlim([0.0, 1.0])\n",
    "plt.ylim([0.0, 1.0])\n",
    "plt.xlabel('False Positive Rate')\n",
    "plt.ylabel('True Positive Rate')\n",
    "plt.title('ROC curve')\n",
    "plt.show()"
   ]
  },
  {
   "cell_type": "code",
   "execution_count": 61,
   "metadata": {},
   "outputs": [
    {
     "name": "stdout",
     "output_type": "stream",
     "text": [
      "The AUC-ROC metric for the model is 0.833591740919931\n"
     ]
    }
   ],
   "source": [
    "# Calculate AUC Score for the model\n",
    "auc_roc = roc_auc_score(ordinal_target_valid, probabilities_one_valid)\n",
    "print(f'The AUC-ROC metric for the model is {auc_roc}')"
   ]
  },
  {
   "cell_type": "markdown",
   "metadata": {},
   "source": [
    "Based on the above results for the **Random Forest Classifier** model, we can draw the following conclusions:\n",
    "\n",
    "1. **Accuracy Score**: The model achieved an accuracy of approximately `90.63%` on the training set and `85.75%` on the validation set. Similar to the Decision Tree model, the accuracy is relatively high. However, we need to consider the class imbalance to better evaluate the model's performance.\n",
    "\n",
    "2. **Recall Score**: The recall score on the validation set is approximately `40.05%`. Recall measures the ability of the model to correctly identify positive cases (churners) out of all actual positive cases. With a recall of `40.05%`, the model can identify around `40.05%` of the customers who actually churned. Like the Decision Tree model, this indicates that the model can detect some churners, but there is room for improvement.\n",
    "\n",
    "3. **Precision Score**: The precision score on the validation set is approximately `78.54%`. Precision measures the proportion of correctly predicted positive cases (churners) out of all predicted positive cases. A precision score of `78.54%` indicates that when the model predicts a customer to churn, it is correct about `78.54%` of the time. This suggests that the model's predictions are more accurate compared to the Decision Tree model when it comes to identifying churners.\n",
    "\n",
    "4. **F1 Score**: The F1 score on the validation set is approximately `53.05%`. A score of `53.05%` indicates a moderate balance between precision and recall, but there is still room for improvement.\n",
    "\n",
    "5. **Confusion Matrix**: The confusion matrix shows the model's performance in terms of true positives (TP), false positives (FP), true negatives (TN), and false negatives (FN). The top-left cell represents true negatives (TN), indicating `1554` customers were correctly classified as non-churners. The top-right cell represents false positives (FP), indicating `44` customers were incorrectly classified as churners. The bottom-left cell represents false negatives (FN), indicating `241` customers were incorrectly classified as non-churners. The bottom-right cell represents true positives (TP), indicating `161` customers were correctly classified as churners.  \n",
    "\n",
    "In summary, the Random Forest Classifier model shows improved performance compared to the Decision Tree model, especially in terms of precision. However, there is still an evident class imbalance that affects the model's ability to predict churn effectively.  "
   ]
  },
  {
   "cell_type": "markdown",
   "metadata": {},
   "source": [
    "## Logistic Regression Model\n",
    "[Back to Contents](#contents)"
   ]
  },
  {
   "cell_type": "code",
   "execution_count": 62,
   "metadata": {},
   "outputs": [
    {
     "data": {
      "text/plain": [
       "['logistic_regression_model.joblib']"
      ]
     },
     "execution_count": 62,
     "metadata": {},
     "output_type": "execute_result"
    }
   ],
   "source": [
    "# Instantiate a model with liblinear as solver\n",
    "logistic_regression_model = LogisticRegression(solver='liblinear', random_state=rand_state)\n",
    "\n",
    "# Train the model using training set\n",
    "logistic_regression_model.fit(ohe_features_train, ohe_target_train)\n",
    "\n",
    "# Predict the target using the validation set features\n",
    "predictions_valid = logistic_regression_model.predict(ohe_features_valid)\n",
    "\n",
    "# Check the accuracy of the predictions\n",
    "accuracy = accuracy_score(ohe_target_valid, predictions_valid)\n",
    "\n",
    "# Save the Logistic Regression model\n",
    "dump(logistic_regression_model, 'logistic_regression_model.joblib')"
   ]
  },
  {
   "cell_type": "code",
   "execution_count": 63,
   "metadata": {
    "scrolled": false
   },
   "outputs": [
    {
     "name": "stdout",
     "output_type": "stream",
     "text": [
      "The best Logistic Regression model by liblinear solver with the following scores: \n",
      "Accuracy Score on Training Set: 0.8108333333333333\n",
      "Accuracy Score on Validation Set: 0.808\n",
      "Recall Score on Validation Set: 0.20398009950248755\n",
      "Precision Score on Validation Set: 0.5616438356164384\n",
      "F1 Score on Validation Set: 0.29927007299270075\n"
     ]
    },
    {
     "data": {
      "image/png": "[encoded data removed]",
      "text/plain": [
       "<Figure size 648x648 with 2 Axes>"
      ]
     },
     "metadata": {
      "needs_background": "light"
     },
     "output_type": "display_data"
    }
   ],
   "source": [
    "# Load the best Logistic Regression model\n",
    "logistic_regression_model = load('logistic_regression_model.joblib')\n",
    "\n",
    "# Predict the target using the validation set features for the best model\n",
    "predictions_train = logistic_regression_model.predict(ohe_features_train)\n",
    "predictions_valid = logistic_regression_model.predict(ohe_features_valid)\n",
    "\n",
    "# Calculate accuracy score of the the best model\n",
    "accuracy_score_train = accuracy_score(ohe_target_train, predictions_train)\n",
    "accuracy_score_valid = accuracy_score(ohe_target_valid, predictions_valid)\n",
    "\n",
    "# Calculate recall_score of the the best model\n",
    "recall_score_valid = recall_score(ohe_target_valid, predictions_valid)\n",
    "\n",
    "# Calculate precision_score of the the best model\n",
    "precision_score_valid = precision_score(ohe_target_valid, predictions_valid)\n",
    "\n",
    "# Calculate the f1-score of the the best model\n",
    "f1_score_valid = f1_score(ohe_target_valid, predictions_valid)\n",
    "\n",
    "# Calculate consfusion matrix of the the best model\n",
    "conf_matrix = confusion_matrix(ohe_target_valid, predictions_valid)\n",
    "\n",
    "# Print out the results\n",
    "print(f'The best Logistic Regression model by liblinear solver with the following scores: ')\n",
    "print(f'Accuracy Score on Training Set: {accuracy_score_train}')\n",
    "print(f'Accuracy Score on Validation Set: {accuracy_score_valid}')\n",
    "print(f'Recall Score on Validation Set: {recall_score_valid}')\n",
    "print(f'Precision Score on Validation Set: {precision_score_valid}')\n",
    "print(f'F1 Score on Validation Set: {f1_score_valid}')\n",
    "\n",
    "# Plot the confusion matrix above in a heat map\n",
    "plt.figure(figsize=(9,9))\n",
    "sns.heatmap(conf_matrix, annot=True, fmt='.3f', linewidths=.5, square=True, cmap='Blues_r')\n",
    "plt.ylabel('Actual label')\n",
    "plt.xlabel('Predicted label')\n",
    "plot_title = f'Accuracy Score: {accuracy_score_valid}'\n",
    "plt.title(plot_title, size=15)\n",
    "plt.show()"
   ]
  },
  {
   "cell_type": "code",
   "execution_count": 64,
   "metadata": {},
   "outputs": [
    {
     "data": {
      "image/png": "[encoded data removed]",
      "text/plain": [
       "<Figure size 432x288 with 1 Axes>"
      ]
     },
     "metadata": {
      "needs_background": "light"
     },
     "output_type": "display_data"
    }
   ],
   "source": [
    "# Calculate True Positive Rate & False Positive Rate for the model\n",
    "probabilities_valid = logistic_regression_model.predict_proba(ohe_features_valid)\n",
    "probabilities_one_valid = probabilities_valid[:, 1]\n",
    "fpr, tpr, thresholds = roc_curve(ohe_target_valid, probabilities_one_valid)\n",
    "\n",
    "# Plot ROC Curve\n",
    "plt.figure()\n",
    "plt.plot(fpr, tpr)\n",
    "plt.plot([0, 1], [0, 1], linestyle='--')\n",
    "plt.xlim([0.0, 1.0])\n",
    "plt.ylim([0.0, 1.0])\n",
    "plt.xlabel('False Positive Rate')\n",
    "plt.ylabel('True Positive Rate')\n",
    "plt.title('ROC curve')\n",
    "plt.show()"
   ]
  },
  {
   "cell_type": "code",
   "execution_count": 65,
   "metadata": {},
   "outputs": [
    {
     "name": "stdout",
     "output_type": "stream",
     "text": [
      "The AUC-ROC metric for the model is 0.739199808217984\n"
     ]
    }
   ],
   "source": [
    "# Calculate AUC Score for the model\n",
    "auc_roc = roc_auc_score(ohe_target_valid, probabilities_one_valid)\n",
    "print(f'The AUC-ROC metric for the model is {auc_roc}')"
   ]
  },
  {
   "cell_type": "markdown",
   "metadata": {},
   "source": [
    "Based on the above results for the Logistic Regression model with the liblinear solver, we can draw the following conclusions:  \n",
    "\n",
    "1. **Accuracy Score**: The model achieved an accuracy of approximately `81.08%` on the training set and `80.8%` on the validation set. While the accuracy is relatively high, it may not be the most reliable metric to evaluate the model's performance, especially when dealing with imbalanced datasets, as is the case here.\n",
    "\n",
    "2. **Recall Score**: The recall score on the validation set is approximately `20.4%`. Recall measures the ability of the model to correctly identify positive cases (churners) out of all actual positive cases. A recall of `20.4%` indicates that the model can identify only around `20.4%` of the customers who actually churned. This suggests that the model's ability to detect churners is relatively limited.\n",
    "\n",
    "3. **Precision Score**: The precision score on the validation set is approximately `56.2%`. Precision measures the proportion of correctly predicted positive cases (churners) out of all predicted positive cases. A precision score of `56.2%` indicates that when the model predicts a customer to churn, it is correct about `56.2%` of the time. This suggests that the model's predictions have moderate accuracy when it comes to identifying churners.\n",
    "\n",
    "4. **F1 Score**: The F1 score on the validation set is approximately `29.9%`. A score of `29.9%` indicates a relatively low balance between precision and recall, reflecting the model's limitations in identifying churners effectively.\n",
    "\n",
    "5. **Confusion Matrix**: The confusion matrix shows the model's performance in terms of true positives (TP), false positives (FP), true negatives (TN), and false negatives (FN). The top-left cell represents true negatives (TN), indicating `1534` customers were correctly classified as non-churners. The top-right cell represents false positives (FP), indicating `64` customers were incorrectly classified as churners. The bottom-left cell represents false negatives (FN), indicating `320` customers were incorrectly classified as non-churners. The bottom-right cell represents true positives (TP), indicating `82` customers were correctly classified as churners.  \n",
    "\n",
    "In summary, the Logistic Regression model with the liblinear solver exhibits limited performance in predicting churn. The low recall and F1 score indicate that the model is not effectively capturing churners, and the precision score suggests that the model's predictions may be overly optimistic."
   ]
  },
  {
   "cell_type": "markdown",
   "metadata": {},
   "source": [
    "# 12. Fix the class imbalance <a id='fix-the-class-imbalance'></a>  \n",
    "[Back to Contents](#contents)"
   ]
  },
  {
   "cell_type": "code",
   "execution_count": 66,
   "metadata": {},
   "outputs": [
    {
     "name": "stdout",
     "output_type": "stream",
     "text": [
      "4772\n",
      "1228\n"
     ]
    }
   ],
   "source": [
    "# Print out the lengths of the negative and positive outcomes for training btarget\n",
    "print(len(ordinal_target_train[ordinal_target_train == 0]))\n",
    "print(len(ordinal_target_train[ordinal_target_train == 1]))"
   ]
  },
  {
   "cell_type": "markdown",
   "metadata": {},
   "source": [
    "## Downsampling the training set\n",
    "[Back to Contents](#contents)"
   ]
  },
  {
   "cell_type": "markdown",
   "metadata": {},
   "source": [
    "**Downsampling** is a technique used to address class imbalance in a dataset, particularly in the context of binary classification problems where one class (the minority class) is significantly underrepresented compared to the other class (the majority class).  \n",
    "\n",
    "In downsampling, we deliberately reduce the number of instances of the majority class in the dataset to match the number of instances of the minority class. This is typically done randomly, removing a subset of instances from the majority class until the class distribution is balanced. The objective is to create a new balanced dataset that has an equal number of samples for each class.  \n",
    "\n",
    "Downsampling is performed in several steps:\n",
    "1. Split the training sample into negative and positive observations;\n",
    "2. Randomly drop a portion of the negative observations;\n",
    "3. Create a new training sample based on the data obtained;\n",
    "4. Shuffle the data. Make sure the positive data doesn't follow the negative data: this will make it harder for the algorithms to learn."
   ]
  },
  {
   "cell_type": "code",
   "execution_count": 67,
   "metadata": {},
   "outputs": [],
   "source": [
    "# Function to downsample the training set\n",
    "def downsample(features, target, fraction):\n",
    "    features_zeros = features[target == 0]\n",
    "    features_ones = features[target == 1]\n",
    "    target_zeros = target[target == 0]\n",
    "    target_ones = target[target == 1]\n",
    "\n",
    "    features_downsampled = pd.concat([features_zeros.sample(frac=fraction, random_state=rand_state)]+ [features_ones])\n",
    "    target_downsampled = pd.concat([target_zeros.sample(frac=fraction, random_state=rand_state)]+ [target_ones])\n",
    "\n",
    "    features_downsampled, target_downsampled = shuffle(features_downsampled, target_downsampled, random_state=12345)\n",
    "\n",
    "    return features_downsampled, target_downsampled"
   ]
  },
  {
   "cell_type": "code",
   "execution_count": 68,
   "metadata": {},
   "outputs": [
    {
     "name": "stdout",
     "output_type": "stream",
     "text": [
      "1193\n",
      "1228\n"
     ]
    }
   ],
   "source": [
    "# Downsampling for label encoded training set\n",
    "ordinal_features_downsampled, ordinal_target_downsampled = downsample(ordinal_features_train, ordinal_target_train, 0.25)\n",
    "\n",
    "# Print out the lengths of the negative and positive outcomes for downsampled training target\n",
    "print(len(ordinal_target_downsampled[ordinal_target_downsampled == 0]))\n",
    "print(len(ordinal_target_downsampled[ordinal_target_downsampled == 1]))"
   ]
  },
  {
   "cell_type": "code",
   "execution_count": 69,
   "metadata": {},
   "outputs": [
    {
     "name": "stdout",
     "output_type": "stream",
     "text": [
      "1193\n",
      "1228\n"
     ]
    }
   ],
   "source": [
    "# Downsampling for one-hot encoded training set\n",
    "ohe_features_downsampled, ohe_target_downsampled = downsample(ohe_features_train, ohe_target_train, 0.25)\n",
    "\n",
    "# Print out the lengths of the negative and positive outcomes for downsampled training target\n",
    "print(len(ohe_target_downsampled[ohe_target_downsampled == 0]))\n",
    "print(len(ohe_target_downsampled[ohe_target_downsampled == 1]))"
   ]
  },
  {
   "cell_type": "markdown",
   "metadata": {},
   "source": [
    "## Upsampling the training set\n",
    "[Back to Contents](#contents)"
   ]
  },
  {
   "cell_type": "markdown",
   "metadata": {},
   "source": [
    "**Upsampling** is a technique used to address class imbalance in a dataset, particularly in the context of binary classification problems where one class (the minority class) is significantly underrepresented compared to the other class (the majority class). Class imbalance can lead to biased machine learning models that may have poor performance in predicting the minority class.  \n",
    "\n",
    "In upsampling, we artificially increase the number of instances of the minority class to balance the class distribution. This is typically done by creating duplicate or synthetic samples from the existing instances of the minority class. The objective is to create a new balanced dataset that has an equal number of samples for each class.    \n",
    "\n",
    "Upsampling is performed in several steps:\n",
    "1. Split the training sample into negative and positive observations;\n",
    "2. Duplicate the positive observations several times;\n",
    "3. Create a new training sample based on the data obtained;\n",
    "4. Shuffle the data: identical questions following one another will not help the training."
   ]
  },
  {
   "cell_type": "code",
   "execution_count": 70,
   "metadata": {},
   "outputs": [],
   "source": [
    "# Function to upsample the training set\n",
    "def upsample(features, target, repeat):\n",
    "    features_zeros = features[target == 0]\n",
    "    features_ones = features[target == 1]\n",
    "    target_zeros = target[target == 0]\n",
    "    target_ones = target[target == 1]\n",
    "\n",
    "    features_upsampled = pd.concat([features_zeros] + [features_ones] * repeat)\n",
    "    target_upsampled = pd.concat([target_zeros] + [target_ones] * repeat)\n",
    "\n",
    "    features_upsampled, target_upsampled = shuffle(features_upsampled, target_upsampled, random_state=12345)\n",
    "\n",
    "    return features_upsampled, target_upsampled"
   ]
  },
  {
   "cell_type": "code",
   "execution_count": 71,
   "metadata": {},
   "outputs": [
    {
     "name": "stdout",
     "output_type": "stream",
     "text": [
      "4772\n",
      "4912\n"
     ]
    }
   ],
   "source": [
    "# Upsampling for label encoded training set\n",
    "ordinal_features_upsampled, ordinal_target_upsampled = upsample(ordinal_features_train, ordinal_target_train, 4)\n",
    "\n",
    "# Print out the lengths of the negative and positive outcomes for upsampled training target\n",
    "print(len(ordinal_target_upsampled[ordinal_target_upsampled == 0]))\n",
    "print(len(ordinal_target_upsampled[ordinal_target_upsampled == 1]))"
   ]
  },
  {
   "cell_type": "code",
   "execution_count": 72,
   "metadata": {},
   "outputs": [
    {
     "name": "stdout",
     "output_type": "stream",
     "text": [
      "4772\n",
      "4912\n"
     ]
    }
   ],
   "source": [
    "# Upsampling for one-hot encoding training set\n",
    "ohe_features_upsampled, ohe_target_upsampled = upsample(ohe_features_train, ohe_target_train, 4)\n",
    "\n",
    "# Print out the lengths of the negative and positive outcomes for upsampled training target\n",
    "print(len(ohe_target_upsampled[ohe_target_upsampled == 0]))\n",
    "print(len(ohe_target_upsampled[ohe_target_upsampled == 1]))"
   ]
  },
  {
   "cell_type": "markdown",
   "metadata": {},
   "source": [
    "# 13. Train the models after fixing the imbalance <a id='train-without-class-imbalance'></a>  \n",
    "[Back to Contents](#contents)"
   ]
  },
  {
   "cell_type": "markdown",
   "metadata": {},
   "source": [
    "## Decision Tree Classifier Model\n",
    "[Back to Contents](#contents)"
   ]
  },
  {
   "cell_type": "code",
   "execution_count": 73,
   "metadata": {},
   "outputs": [
    {
     "data": {
      "text/plain": [
       "['best_decision_tree_classifier_model_downsampled.joblib']"
      ]
     },
     "execution_count": 73,
     "metadata": {},
     "output_type": "execute_result"
    }
   ],
   "source": [
    "# Training Decision Tree Classifier Model on downsampled training data\n",
    "\n",
    "best_decision_tree_classifier_model = None\n",
    "best_f1_score = 0\n",
    "max_depth = 0\n",
    "\n",
    "# Change max_depth hyperparameter from 1 to 10 & find at what depth the model is the most accurate\n",
    "for depth in range(1, 11):\n",
    "    # Instantiate a model with max_depth = depth\n",
    "    current_decision_tree_classifier_model = DecisionTreeClassifier(max_depth=depth, class_weight='balanced', random_state=rand_state)\n",
    "\n",
    "    # Train the model using training set\n",
    "    current_decision_tree_classifier_model.fit(ordinal_features_downsampled, ordinal_target_downsampled)\n",
    "\n",
    "    # Predict the target using the validation set features\n",
    "    current_predictions = current_decision_tree_classifier_model.predict(ordinal_features_valid)\n",
    "    \n",
    "    # Check the f1-score of the predictions\n",
    "    current_f1_score = f1_score(ordinal_target_valid, current_predictions)\n",
    "    \n",
    "    # Check for the best model until the current iteration\n",
    "    if(best_f1_score < current_f1_score):\n",
    "        best_f1_score = current_f1_score\n",
    "        max_depth = depth\n",
    "        best_decision_tree_classifier_model = current_decision_tree_classifier_model\n",
    "\n",
    "# Save the best Decision Tree Classifer model\n",
    "dump(best_decision_tree_classifier_model, 'best_decision_tree_classifier_model_downsampled.joblib')"
   ]
  },
  {
   "cell_type": "code",
   "execution_count": 74,
   "metadata": {
    "scrolled": false
   },
   "outputs": [
    {
     "name": "stdout",
     "output_type": "stream",
     "text": [
      "The best Decision Tree Classifer model is of depth 5 with the following scores: \n",
      "Accuracy Score on Training Set: 0.7699297810821975\n",
      "Accuracy Score on Validation Set: 0.755\n",
      "Recall Score on Validation Set: 0.654228855721393\n",
      "Precision Score on Validation Set: 0.42833876221498374\n",
      "F1 Score on Validation Set: 0.5177165354330708\n"
     ]
    },
    {
     "data": {
      "image/png": "[encoded data removed]",
      "text/plain": [
       "<Figure size 648x648 with 2 Axes>"
      ]
     },
     "metadata": {
      "needs_background": "light"
     },
     "output_type": "display_data"
    }
   ],
   "source": [
    "# Load the best Decision Tree Classifier model trained on downsampled training dataset\n",
    "decision_tree_classifier_model = load('best_decision_tree_classifier_model_downsampled.joblib')\n",
    "\n",
    "# Predict the target using the validation set features for the best model\n",
    "predictions_train = decision_tree_classifier_model.predict(ordinal_features_downsampled)\n",
    "predictions_valid = decision_tree_classifier_model.predict(ordinal_features_valid)\n",
    "\n",
    "# Calculate accuracy score of the the best model\n",
    "accuracy_score_train = accuracy_score(ordinal_target_downsampled, predictions_train)\n",
    "accuracy_score_valid = accuracy_score(ordinal_target_valid, predictions_valid)\n",
    "\n",
    "# Calculate recall_score of the the best model\n",
    "recall_score_valid = recall_score(ordinal_target_valid, predictions_valid)\n",
    "\n",
    "# Calculate precision_score of the the best model\n",
    "precision_score_valid = precision_score(ordinal_target_valid, predictions_valid)\n",
    "\n",
    "# Calculate consfusion matrix of the the best model\n",
    "conf_matrix = confusion_matrix(ordinal_target_valid, predictions_valid)\n",
    "\n",
    "# Print out the results\n",
    "print(f'The best Decision Tree Classifer model is of depth {max_depth} with the following scores: ')\n",
    "print(f'Accuracy Score on Training Set: {accuracy_score_train}')\n",
    "print(f'Accuracy Score on Validation Set: {accuracy_score_valid}')\n",
    "print(f'Recall Score on Validation Set: {recall_score_valid}')\n",
    "print(f'Precision Score on Validation Set: {precision_score_valid}')\n",
    "print(f'F1 Score on Validation Set: {best_f1_score}')\n",
    "\n",
    "# Plot the confusion matrix above in a heat map\n",
    "plt.figure(figsize=(9,9))\n",
    "sns.heatmap(conf_matrix, annot=True, fmt='.3f', linewidths=.5, square=True, cmap='Reds_r')\n",
    "plt.ylabel('Actual label')\n",
    "plt.xlabel('Predicted label')\n",
    "plot_title = f'Accuracy Score: {accuracy_score_valid}'\n",
    "plt.title(plot_title, size=15)\n",
    "plt.show()"
   ]
  },
  {
   "cell_type": "code",
   "execution_count": 75,
   "metadata": {},
   "outputs": [
    {
     "data": {
      "image/png": "[encoded data removed]",
      "text/plain": [
       "<Figure size 432x288 with 1 Axes>"
      ]
     },
     "metadata": {
      "needs_background": "light"
     },
     "output_type": "display_data"
    }
   ],
   "source": [
    "# Calculate True Positive Rate & False Positive Rate for the model\n",
    "probabilities_valid = decision_tree_classifier_model.predict_proba(ordinal_features_valid)\n",
    "probabilities_one_valid = probabilities_valid[:, 1]\n",
    "fpr, tpr, thresholds = roc_curve(ordinal_target_valid, probabilities_one_valid)\n",
    "\n",
    "# Plot ROC Curve\n",
    "plt.figure()\n",
    "plt.plot(fpr, tpr)\n",
    "plt.plot([0, 1], [0, 1], linestyle='--')\n",
    "plt.xlim([0.0, 1.0])\n",
    "plt.ylim([0.0, 1.0])\n",
    "plt.xlabel('False Positive Rate')\n",
    "plt.ylabel('True Positive Rate')\n",
    "plt.title('ROC curve')\n",
    "plt.show()"
   ]
  },
  {
   "cell_type": "code",
   "execution_count": 76,
   "metadata": {},
   "outputs": [
    {
     "name": "stdout",
     "output_type": "stream",
     "text": [
      "The AUC-ROC metric for the model is 0.7905310742906244\n"
     ]
    }
   ],
   "source": [
    "# Calculate AUC Score for the model\n",
    "auc_roc = roc_auc_score(ordinal_target_valid, probabilities_one_valid)\n",
    "print(f'The AUC-ROC metric for the model is {auc_roc}')"
   ]
  },
  {
   "cell_type": "markdown",
   "metadata": {},
   "source": [
    "Based on the above results for the **Decision Tree Classifier model trained after downsampling the training data**, we can draw the following conclusions:\n",
    "\n",
    "| Metric           | Training Set | Validation Set            |\n",
    "|------------------|--------------|---------------------------|\n",
    "| Accuracy Score   | 0.7699       | 0.7550                    |\n",
    "| Recall Score     | -            | 0.6542                    |\n",
    "| Precision Score  | -            | 0.4283                    |\n",
    "| F1 Score         | -            | 0.5177                    |\n",
    "| Confusion Matrix | -            | [[1247, 351], [139, 263]] |\n",
    "\n",
    "In summary, after downsampling the training data to address class imbalance, the Decision Tree Classifier model has shown some improvement in identifying churners compared to the previous model without class imbalance handling. The recall score has increased, indicating a better ability to capture churners. However, the precision remains relatively ."
   ]
  },
  {
   "cell_type": "code",
   "execution_count": 77,
   "metadata": {},
   "outputs": [
    {
     "data": {
      "text/plain": [
       "['best_decision_tree_classifier_model_upsampled.joblib']"
      ]
     },
     "execution_count": 77,
     "metadata": {},
     "output_type": "execute_result"
    }
   ],
   "source": [
    "# Training Decision Tree Classifier Model on upsampled training data\n",
    "\n",
    "best_decision_tree_classifier_model = None\n",
    "best_f1_score = 0\n",
    "max_depth = 0\n",
    "\n",
    "# Change max_depth hyperparameter from 1 to 10 & find at what depth the model is the most accurate\n",
    "for depth in range(1, 11):\n",
    "    # Instantiate a model with max_depth = depth\n",
    "    current_decision_tree_classifier_model = DecisionTreeClassifier(max_depth=depth, class_weight='balanced', random_state=rand_state)\n",
    "\n",
    "    # Train the model using training set\n",
    "    current_decision_tree_classifier_model.fit(ordinal_features_upsampled, ordinal_target_upsampled)\n",
    "\n",
    "    # Predict the target using the validation set features\n",
    "    current_predictions = current_decision_tree_classifier_model.predict(ordinal_features_valid)\n",
    "    \n",
    "    # Check the f1-score of the predictions\n",
    "    current_f1_score = f1_score(ordinal_target_valid, current_predictions)\n",
    "    \n",
    "    # Check for the best model until the current iteration\n",
    "    if(best_f1_score < current_f1_score):\n",
    "        best_f1_score = current_f1_score\n",
    "        max_depth = depth\n",
    "        best_decision_tree_classifier_model = current_decision_tree_classifier_model\n",
    "\n",
    "# Save the best Decision Tree Classifer model\n",
    "dump(best_decision_tree_classifier_model, 'best_decision_tree_classifier_model_upsampled.joblib')"
   ]
  },
  {
   "cell_type": "code",
   "execution_count": 78,
   "metadata": {
    "scrolled": false
   },
   "outputs": [
    {
     "name": "stdout",
     "output_type": "stream",
     "text": [
      "The best Decision Tree Classifer model is of depth 6 with the following scores: \n",
      "Accuracy Score on Training Set: 0.7827344072697232\n",
      "Accuracy Score on Validation Set: 0.7595\n",
      "Recall Score on Validation Set: 0.7238805970149254\n",
      "Precision Score on Validation Set: 0.4402420574886536\n",
      "F1 Score on Validation Set: 0.5475070555032925\n"
     ]
    },
    {
     "data": {
      "image/png": "[encoded data removed]",
      "text/plain": [
       "<Figure size 648x648 with 2 Axes>"
      ]
     },
     "metadata": {
      "needs_background": "light"
     },
     "output_type": "display_data"
    }
   ],
   "source": [
    "# Load the best Decision Tree Classifier model trained on upsampled training dataset\n",
    "decision_tree_classifier_model = load('best_decision_tree_classifier_model_upsampled.joblib')\n",
    "\n",
    "# Predict the target using the validation set features for the best model\n",
    "predictions_train = decision_tree_classifier_model.predict(ordinal_features_upsampled)\n",
    "predictions_valid = decision_tree_classifier_model.predict(ordinal_features_valid)\n",
    "\n",
    "# Calculate accuracy score of the the best model\n",
    "accuracy_score_train = accuracy_score(ordinal_target_upsampled, predictions_train)\n",
    "accuracy_score_valid = accuracy_score(ordinal_target_valid, predictions_valid)\n",
    "\n",
    "# Calculate recall_score of the the best model\n",
    "recall_score_valid = recall_score(ordinal_target_valid, predictions_valid)\n",
    "\n",
    "# Calculate precision_score of the the best model\n",
    "precision_score_valid = precision_score(ordinal_target_valid, predictions_valid)\n",
    "\n",
    "# Calculate consfusion matrix of the the best model\n",
    "conf_matrix = confusion_matrix(ordinal_target_valid, predictions_valid)\n",
    "\n",
    "# Print out the results\n",
    "print(f'The best Decision Tree Classifer model is of depth {max_depth} with the following scores: ')\n",
    "print(f'Accuracy Score on Training Set: {accuracy_score_train}')\n",
    "print(f'Accuracy Score on Validation Set: {accuracy_score_valid}')\n",
    "print(f'Recall Score on Validation Set: {recall_score_valid}')\n",
    "print(f'Precision Score on Validation Set: {precision_score_valid}')\n",
    "print(f'F1 Score on Validation Set: {best_f1_score}')\n",
    "\n",
    "# Plot the confusion matrix above in a heat map\n",
    "plt.figure(figsize=(9,9))\n",
    "sns.heatmap(conf_matrix, annot=True, fmt='.3f', linewidths=.5, square=True, cmap='Reds_r')\n",
    "plt.ylabel('Actual label')\n",
    "plt.xlabel('Predicted label')\n",
    "plot_title = f'Accuracy Score: {accuracy_score_valid}'\n",
    "plt.title(plot_title, size=15)\n",
    "plt.show()"
   ]
  },
  {
   "cell_type": "code",
   "execution_count": 79,
   "metadata": {},
   "outputs": [
    {
     "data": {
      "image/png": "[encoded data removed]",
      "text/plain": [
       "<Figure size 432x288 with 1 Axes>"
      ]
     },
     "metadata": {
      "needs_background": "light"
     },
     "output_type": "display_data"
    }
   ],
   "source": [
    "# Calculate True Positive Rate & False Positive Rate for the model\n",
    "probabilities_valid = decision_tree_classifier_model.predict_proba(ordinal_features_valid)\n",
    "probabilities_one_valid = probabilities_valid[:, 1]\n",
    "fpr, tpr, thresholds = roc_curve(ordinal_target_valid, probabilities_one_valid)\n",
    "\n",
    "# Plot ROC Curve\n",
    "plt.figure()\n",
    "plt.plot(fpr, tpr)\n",
    "plt.plot([0, 1], [0, 1], linestyle='--')\n",
    "plt.xlim([0.0, 1.0])\n",
    "plt.ylim([0.0, 1.0])\n",
    "plt.xlabel('False Positive Rate')\n",
    "plt.ylabel('True Positive Rate')\n",
    "plt.title('ROC curve')\n",
    "plt.show()"
   ]
  },
  {
   "cell_type": "code",
   "execution_count": 80,
   "metadata": {},
   "outputs": [
    {
     "name": "stdout",
     "output_type": "stream",
     "text": [
      "The AUC-ROC metric for the model is 0.8240656853405065\n"
     ]
    }
   ],
   "source": [
    "# Calculate AUC Score for the model\n",
    "auc_roc = roc_auc_score(ordinal_target_valid, probabilities_one_valid)\n",
    "print(f'The AUC-ROC metric for the model is {auc_roc}')"
   ]
  },
  {
   "cell_type": "markdown",
   "metadata": {},
   "source": [
    "Based on the above results for the **Decision Tree Classifier model trained after upsampling the training data**, we can draw the following conclusions:  \n",
    "\n",
    "| Metric           | Training Set | Validation Set                             |\n",
    "|------------------|--------------|--------------------------------------------|\n",
    "| Accuracy Score   | 0.7827       | 0.7595                                     |\n",
    "| Recall Score     | -            | 0.7239                                     |\n",
    "| Precision Score  | -            | 0.4402                                     |\n",
    "| F1 Score         | -            | 0.5475                                     |\n",
    "| Confusion Matrix | -            | [[1228.000, 370.000],  [111.000, 291.000]] |\n",
    "\n",
    "Overall, the model's performance demonstrates progress in detecting churners after handling class imbalance through upsampling. However, there is not much difference between the model when trainied on downsampled and upsampled training datasets. In that little difference, **the model trained on upsampled training dataset, tends to perform a bit better**."
   ]
  },
  {
   "cell_type": "markdown",
   "metadata": {},
   "source": [
    "## Random Forest Classifier Model\n",
    "[Back to Contents](#contents)"
   ]
  },
  {
   "cell_type": "code",
   "execution_count": 81,
   "metadata": {},
   "outputs": [
    {
     "data": {
      "text/plain": [
       "['best_random_forest_classifier_model_downsampled.joblib']"
      ]
     },
     "execution_count": 81,
     "metadata": {},
     "output_type": "execute_result"
    }
   ],
   "source": [
    "# Training Random Forest Classifier Model on downsampled training data\n",
    "\n",
    "best_random_forest_classifier_model = None\n",
    "best_f1_score = 0\n",
    "best_no_of_estimators = 0\n",
    "max_depth = 0\n",
    "\n",
    "# Change n_estimators hyperparameter from 10 to 180 (increment by 10 steps)\n",
    "# And find how many number of trees the ensemble should have for the model to be the most accurate\n",
    "for no_of_estimators in range(10, 190, 10):\n",
    "    for depth in range(1, 11):\n",
    "        # Instantiate a model with n_estimators = no_of_estimators (used to set number of trees in the ensemble)\n",
    "        current_random_forest_classifier_model = RandomForestClassifier(n_estimators=no_of_estimators, class_weight='balanced', max_depth=depth, random_state=rand_state)\n",
    "\n",
    "        # Train the model using training set\n",
    "        current_random_forest_classifier_model.fit(ordinal_features_downsampled, ordinal_target_downsampled)\n",
    "\n",
    "        # Predict the target using the validation set features\n",
    "        current_predictions = current_random_forest_classifier_model.predict(ordinal_features_valid)\n",
    "\n",
    "        # Check the f1-score of the predictions\n",
    "        current_f1_score = f1_score(ordinal_target_valid, current_predictions)\n",
    "\n",
    "        # Check for the best accurate model until the current iteration\n",
    "        if(best_f1_score < current_f1_score):\n",
    "            best_f1_score = current_f1_score\n",
    "            best_no_of_estimators = no_of_estimators\n",
    "            max_depth = depth\n",
    "            best_random_forest_classifier_model = current_random_forest_classifier_model\n",
    "\n",
    "# Save the best Random Tree Classifer model\n",
    "dump(best_random_forest_classifier_model, 'best_random_forest_classifier_model_downsampled.joblib')\n"
   ]
  },
  {
   "cell_type": "code",
   "execution_count": 82,
   "metadata": {
    "scrolled": false
   },
   "outputs": [
    {
     "name": "stdout",
     "output_type": "stream",
     "text": [
      "The best Random Forest Classifier model is of 180 no of trees with max depth of 10 with the following scores: \n",
      "Accuracy Score on Training Set: 0.9434118133002891\n",
      "Accuracy Score on Validation Set: 0.7665\n",
      "Recall Score on Validation Set: 0.7388059701492538\n",
      "Precision Score on Validation Set: 0.45068285280728376\n",
      "F1 Score on Validation Set: 0.5598491988689915\n"
     ]
    },
    {
     "data": {
      "image/png": "[encoded data removed]",
      "text/plain": [
       "<Figure size 648x648 with 2 Axes>"
      ]
     },
     "metadata": {
      "needs_background": "light"
     },
     "output_type": "display_data"
    }
   ],
   "source": [
    "# Load the best Random Forest Classifier model trained on downsampled training data\n",
    "\n",
    "random_forest_classifier_model = load('best_random_forest_classifier_model_downsampled.joblib')\n",
    "\n",
    "# Predict the target using the validation set features for the best model\n",
    "predictions_train = random_forest_classifier_model.predict(ordinal_features_downsampled)\n",
    "predictions_valid = random_forest_classifier_model.predict(ordinal_features_valid)\n",
    "\n",
    "# Calculate accuracy score of the the best model\n",
    "accuracy_score_train = accuracy_score(ordinal_target_downsampled, predictions_train)\n",
    "accuracy_score_valid = accuracy_score(ordinal_target_valid, predictions_valid)\n",
    "\n",
    "# Calculate recall_score of the the best model\n",
    "recall_score_valid = recall_score(ordinal_target_valid, predictions_valid)\n",
    "\n",
    "# Calculate precision_score of the the best model\n",
    "precision_score_valid = precision_score(ordinal_target_valid, predictions_valid)\n",
    "\n",
    "# Calculate consfusion matrix of the the best model\n",
    "conf_matrix = confusion_matrix(ordinal_target_valid, predictions_valid)\n",
    "\n",
    "# Print out the results\n",
    "print(f'The best Random Forest Classifier model is of {no_of_estimators} no of trees with max depth of {max_depth} with the following scores: ')\n",
    "print(f'Accuracy Score on Training Set: {accuracy_score_train}')\n",
    "print(f'Accuracy Score on Validation Set: {accuracy_score_valid}')\n",
    "print(f'Recall Score on Validation Set: {recall_score_valid}')\n",
    "print(f'Precision Score on Validation Set: {precision_score_valid}')\n",
    "print(f'F1 Score on Validation Set: {best_f1_score}')\n",
    "\n",
    "# Plot the confusion matrix above in a heat map\n",
    "plt.figure(figsize=(9,9))\n",
    "sns.heatmap(conf_matrix, annot=True, fmt='.3f', linewidths=.5, square=True, cmap='Greens_r')\n",
    "plt.ylabel('Actual label')\n",
    "plt.xlabel('Predicted label')\n",
    "plot_title = f'Accuracy Score: {accuracy_score_valid}'\n",
    "plt.title(plot_title, size=15)\n",
    "plt.show()"
   ]
  },
  {
   "cell_type": "code",
   "execution_count": 83,
   "metadata": {},
   "outputs": [
    {
     "data": {
      "image/png": "[encoded data removed]",
      "text/plain": [
       "<Figure size 432x288 with 1 Axes>"
      ]
     },
     "metadata": {
      "needs_background": "light"
     },
     "output_type": "display_data"
    }
   ],
   "source": [
    "# Calculate True Positive Rate & False Positive Rate for the model\n",
    "probabilities_valid = random_forest_classifier_model.predict_proba(ordinal_features_valid)\n",
    "probabilities_one_valid = probabilities_valid[:, 1]\n",
    "fpr, tpr, thresholds = roc_curve(ordinal_target_valid, probabilities_one_valid)\n",
    "\n",
    "# Plot ROC Curve\n",
    "plt.figure()\n",
    "plt.plot(fpr, tpr)\n",
    "plt.plot([0, 1], [0, 1], linestyle='--')\n",
    "plt.xlim([0.0, 1.0])\n",
    "plt.ylim([0.0, 1.0])\n",
    "plt.xlabel('False Positive Rate')\n",
    "plt.ylabel('True Positive Rate')\n",
    "plt.title('ROC curve')\n",
    "plt.show()"
   ]
  },
  {
   "cell_type": "code",
   "execution_count": 84,
   "metadata": {},
   "outputs": [
    {
     "name": "stdout",
     "output_type": "stream",
     "text": [
      "The AUC-ROC metric for the model is 0.8304021195648791\n"
     ]
    }
   ],
   "source": [
    "# Calculate AUC Score for the model\n",
    "auc_roc = roc_auc_score(ordinal_target_valid, probabilities_one_valid)\n",
    "print(f'The AUC-ROC metric for the model is {auc_roc}')"
   ]
  },
  {
   "cell_type": "markdown",
   "metadata": {},
   "source": [
    "Based on the above results for the **Random Forest Classifier model trained after downsampling the training data**, we can draw the following conclusions:  \n",
    "\n",
    "| Metric                      | Training Set | Validation Set                             |\n",
    "|-----------------------------|--------------|--------------------------------------------|\n",
    "| Accuracy                    | 0.9434       | 0.7665                                     |\n",
    "| Recall (True Positive Rate) | -            | 0.7388                                     |\n",
    "| Precision                   | -            | 0.4507                                     |\n",
    "| F1 Score                    | -            | 0.5598                                     |\n",
    "| Confusion Matrix            | -            | [[1236.000, 362.000],  [105.000, 297.000]] |\n",
    "\n",
    "In conclusion, the Random Forest Classifier model, after downsampling the training data, shows improved performance in detecting churners compared to the previous models without class imbalance handling. The model achieves a higher recall score, indicating a better ability to capture churners."
   ]
  },
  {
   "cell_type": "code",
   "execution_count": 85,
   "metadata": {},
   "outputs": [
    {
     "data": {
      "text/plain": [
       "['best_random_forest_classifier_model_upsampled.joblib']"
      ]
     },
     "execution_count": 85,
     "metadata": {},
     "output_type": "execute_result"
    }
   ],
   "source": [
    "# Training Random Forest Classifier Model on upsampled training data\n",
    "\n",
    "best_random_forest_classifier_model = None\n",
    "best_f1_score = 0\n",
    "best_no_of_estimators = 0\n",
    "max_depth = 0\n",
    "\n",
    "# Change n_estimators hyperparameter from 10 to 180 (increment by 10 steps)\n",
    "# And find how many number of trees the ensemble should have for the model to be the most accurate\n",
    "for no_of_estimators in range(10, 190, 10):\n",
    "    for depth in range(1, 11):\n",
    "        # Instantiate a model with n_estimators = no_of_estimators (used to set number of trees in the ensemble)\n",
    "        current_random_forest_classifier_model = RandomForestClassifier(n_estimators=no_of_estimators, class_weight='balanced', max_depth=depth, random_state=rand_state)\n",
    "\n",
    "        # Train the model using training set\n",
    "        current_random_forest_classifier_model.fit(ordinal_features_upsampled, ordinal_target_upsampled)\n",
    "\n",
    "        # Predict the target using the validation set features\n",
    "        current_predictions = current_random_forest_classifier_model.predict(ordinal_features_valid)\n",
    "\n",
    "        # Check the f1-score of the predictions\n",
    "        current_f1_score = f1_score(ordinal_target_valid, current_predictions)\n",
    "\n",
    "        # Check for the best accurate model until the current iteration\n",
    "        if(best_f1_score < current_f1_score):\n",
    "            best_f1_score = current_f1_score\n",
    "            best_no_of_estimators = no_of_estimators\n",
    "            max_depth = depth\n",
    "            best_random_forest_classifier_model = current_random_forest_classifier_model\n",
    "\n",
    "# Save the best Random Tree Classifer model\n",
    "dump(best_random_forest_classifier_model, 'best_random_forest_classifier_model_upsampled.joblib')\n"
   ]
  },
  {
   "cell_type": "code",
   "execution_count": 86,
   "metadata": {
    "scrolled": false
   },
   "outputs": [
    {
     "name": "stdout",
     "output_type": "stream",
     "text": [
      "The best Random Forest Classifier model is of 180 no of trees with max depth of 10 with the following scores: \n",
      "Accuracy Score on Training Set: 0.9309169764560099\n",
      "Accuracy Score on Validation Set: 0.81\n",
      "Recall Score on Validation Set: 0.6368159203980099\n",
      "Precision Score on Validation Set: 0.5224489795918368\n",
      "F1 Score on Validation Set: 0.5739910313901345\n"
     ]
    },
    {
     "data": {
      "image/png": "[encoded data removed]",
      "text/plain": [
       "<Figure size 648x648 with 2 Axes>"
      ]
     },
     "metadata": {
      "needs_background": "light"
     },
     "output_type": "display_data"
    }
   ],
   "source": [
    "# Load the best Random Forest Classifier model trained on upsampled training data\n",
    "\n",
    "random_forest_classifier_model = load('best_random_forest_classifier_model_upsampled.joblib')\n",
    "\n",
    "# Predict the target using the validation set features for the best model\n",
    "predictions_train = random_forest_classifier_model.predict(ordinal_features_upsampled)\n",
    "predictions_valid = random_forest_classifier_model.predict(ordinal_features_valid)\n",
    "\n",
    "# Calculate accuracy score of the the best model\n",
    "accuracy_score_train = accuracy_score(ordinal_target_upsampled, predictions_train)\n",
    "accuracy_score_valid = accuracy_score(ordinal_target_valid, predictions_valid)\n",
    "\n",
    "# Calculate recall_score of the the best model\n",
    "recall_score_valid = recall_score(ordinal_target_valid, predictions_valid)\n",
    "\n",
    "# Calculate precision_score of the the best model\n",
    "precision_score_valid = precision_score(ordinal_target_valid, predictions_valid)\n",
    "\n",
    "# Calculate consfusion matrix of the the best model\n",
    "conf_matrix = confusion_matrix(ordinal_target_valid, predictions_valid)\n",
    "\n",
    "# Print out the results\n",
    "print(f'The best Random Forest Classifier model is of {no_of_estimators} no of trees with max depth of {max_depth} with the following scores: ')\n",
    "print(f'Accuracy Score on Training Set: {accuracy_score_train}')\n",
    "print(f'Accuracy Score on Validation Set: {accuracy_score_valid}')\n",
    "print(f'Recall Score on Validation Set: {recall_score_valid}')\n",
    "print(f'Precision Score on Validation Set: {precision_score_valid}')\n",
    "print(f'F1 Score on Validation Set: {best_f1_score}')\n",
    "\n",
    "# Plot the confusion matrix above in a heat map\n",
    "plt.figure(figsize=(9,9))\n",
    "sns.heatmap(conf_matrix, annot=True, fmt='.3f', linewidths=.5, square=True, cmap='Greens_r')\n",
    "plt.ylabel('Actual label')\n",
    "plt.xlabel('Predicted label')\n",
    "plot_title = f'Accuracy Score: {accuracy_score_valid}'\n",
    "plt.title(plot_title, size=15)\n",
    "plt.show()"
   ]
  },
  {
   "cell_type": "code",
   "execution_count": 87,
   "metadata": {},
   "outputs": [
    {
     "data": {
      "image/png": "[encoded data removed]",
      "text/plain": [
       "<Figure size 432x288 with 1 Axes>"
      ]
     },
     "metadata": {
      "needs_background": "light"
     },
     "output_type": "display_data"
    }
   ],
   "source": [
    "# Calculate True Positive Rate & False Positive Rate for the model\n",
    "probabilities_valid = random_forest_classifier_model.predict_proba(ordinal_features_valid)\n",
    "probabilities_one_valid = probabilities_valid[:, 1]\n",
    "fpr, tpr, thresholds = roc_curve(ordinal_target_valid, probabilities_one_valid)\n",
    "\n",
    "# Plot ROC Curve\n",
    "plt.figure()\n",
    "plt.plot(fpr, tpr)\n",
    "plt.plot([0, 1], [0, 1], linestyle='--')\n",
    "plt.xlim([0.0, 1.0])\n",
    "plt.ylim([0.0, 1.0])\n",
    "plt.xlabel('False Positive Rate')\n",
    "plt.ylabel('True Positive Rate')\n",
    "plt.title('ROC curve')\n",
    "plt.show()"
   ]
  },
  {
   "cell_type": "code",
   "execution_count": 88,
   "metadata": {},
   "outputs": [
    {
     "name": "stdout",
     "output_type": "stream",
     "text": [
      "The AUC-ROC metric for the model is 0.8360917564866531\n"
     ]
    }
   ],
   "source": [
    "# Calculate AUC Score for the model\n",
    "auc_roc = roc_auc_score(ordinal_target_valid, probabilities_one_valid)\n",
    "print(f'The AUC-ROC metric for the model is {auc_roc}')"
   ]
  },
  {
   "cell_type": "markdown",
   "metadata": {},
   "source": [
    "Based on the above results for the **Random Forest Classifier model trained after upsampling the training data**, we can draw the following conclusions:  \n",
    "\n",
    "| Metric           | Training Set | Validation Set                             |\n",
    "|------------------|--------------|--------------------------------------------|\n",
    "| Accuracy Score   | 0.9309       | 0.810                                      |\n",
    "| Recall Score     | -            | 0.6368                                     |\n",
    "| Precision Score  | -            | 0.5224                                     |\n",
    "| F1 Score         | -            | 0.5739                                     |\n",
    "| Confusion Matrix | -            | [[1364.000, 234.000],  [146.000, 256.000]] |\n",
    "\n",
    "In conclusion, the Random Forest Classifier model, trained after upsampling the training data, shows improved performance compared to previous models. It achieves a relatively high accuracy and F1 score on the validation set and demonstrates a good ability to identify churners (higher recall). **The Random Forest Classifier model trained after upsampling the training data has performed a bit better than the one trained after downsampling the training data**."
   ]
  },
  {
   "cell_type": "markdown",
   "metadata": {},
   "source": [
    "## Logistic Regression Model\n",
    "[Back to Contents](#contents)"
   ]
  },
  {
   "cell_type": "code",
   "execution_count": 89,
   "metadata": {},
   "outputs": [
    {
     "data": {
      "text/plain": [
       "['logistic_regression_model_downsampled.joblib']"
      ]
     },
     "execution_count": 89,
     "metadata": {},
     "output_type": "execute_result"
    }
   ],
   "source": [
    "# Training Logistic Regression Model on downsampled training data\n",
    "\n",
    "# Instantiate a model with liblinear as solver\n",
    "logistic_regression_model = LogisticRegression(solver='liblinear', class_weight='balanced', random_state=rand_state)\n",
    "\n",
    "# Train the model using training set\n",
    "logistic_regression_model.fit(ohe_features_downsampled, ohe_target_downsampled)\n",
    "\n",
    "# Predict the target using the validation set features\n",
    "predictions_valid = logistic_regression_model.predict(ohe_features_valid)\n",
    "\n",
    "# Check the accuracy of the predictions\n",
    "accuracy = accuracy_score(ohe_target_valid, predictions_valid)\n",
    "\n",
    "# Save the Logistic Regression model\n",
    "dump(logistic_regression_model, 'logistic_regression_model_downsampled.joblib')"
   ]
  },
  {
   "cell_type": "code",
   "execution_count": 90,
   "metadata": {
    "scrolled": false
   },
   "outputs": [
    {
     "name": "stdout",
     "output_type": "stream",
     "text": [
      "The best Logistic Regression model by liblinear solver with the following scores: \n",
      "Accuracy Score on Training Set: 0.7286245353159851\n",
      "Accuracy Score on Validation Set: 0.701\n",
      "Recall Score on Validation Set: 0.6318407960199005\n",
      "Precision Score on Validation Set: 0.36079545454545453\n",
      "F1 Score on Validation Set: 0.4593128390596745\n"
     ]
    },
    {
     "data": {
      "image/png": "[encoded data removed]",
      "text/plain": [
       "<Figure size 648x648 with 2 Axes>"
      ]
     },
     "metadata": {
      "needs_background": "light"
     },
     "output_type": "display_data"
    }
   ],
   "source": [
    "# Load the best Logistic Regression model\n",
    "logistic_regression_model = load('logistic_regression_model_downsampled.joblib')\n",
    "\n",
    "# Predict the target using the validation set features for the best model\n",
    "predictions_train = logistic_regression_model.predict(ohe_features_downsampled)\n",
    "predictions_valid = logistic_regression_model.predict(ohe_features_valid)\n",
    "\n",
    "# Calculate accuracy score of the the best model\n",
    "accuracy_score_train = accuracy_score(ohe_target_downsampled, predictions_train)\n",
    "accuracy_score_valid = accuracy_score(ohe_target_valid, predictions_valid)\n",
    "\n",
    "# Calculate recall_score of the the best model\n",
    "recall_score_valid = recall_score(ohe_target_valid, predictions_valid)\n",
    "\n",
    "# Calculate precision_score of the the best model\n",
    "precision_score_valid = precision_score(ohe_target_valid, predictions_valid)\n",
    "\n",
    "# Calculate the f1-score of the the best model\n",
    "f1_score_valid = f1_score(ohe_target_valid, predictions_valid)\n",
    "\n",
    "# Calculate consfusion matrix of the the best model\n",
    "conf_matrix = confusion_matrix(ohe_target_valid, predictions_valid)\n",
    "\n",
    "# Print out the results\n",
    "print(f'The best Logistic Regression model by liblinear solver with the following scores: ')\n",
    "print(f'Accuracy Score on Training Set: {accuracy_score_train}')\n",
    "print(f'Accuracy Score on Validation Set: {accuracy_score_valid}')\n",
    "print(f'Recall Score on Validation Set: {recall_score_valid}')\n",
    "print(f'Precision Score on Validation Set: {precision_score_valid}')\n",
    "print(f'F1 Score on Validation Set: {f1_score_valid}')\n",
    "\n",
    "# Plot the confusion matrix above in a heat map\n",
    "plt.figure(figsize=(9,9))\n",
    "sns.heatmap(conf_matrix, annot=True, fmt='.3f', linewidths=.5, square=True, cmap='Blues_r')\n",
    "plt.ylabel('Actual label')\n",
    "plt.xlabel('Predicted label')\n",
    "plot_title = f'Accuracy Score: {accuracy_score_valid}'\n",
    "plt.title(plot_title, size=15)\n",
    "plt.show()"
   ]
  },
  {
   "cell_type": "code",
   "execution_count": 91,
   "metadata": {},
   "outputs": [
    {
     "data": {
      "image/png": "[encoded data removed]",
      "text/plain": [
       "<Figure size 432x288 with 1 Axes>"
      ]
     },
     "metadata": {
      "needs_background": "light"
     },
     "output_type": "display_data"
    }
   ],
   "source": [
    "# Calculate True Positive Rate & False Positive Rate for the model\n",
    "probabilities_valid = logistic_regression_model.predict_proba(ohe_features_valid)\n",
    "probabilities_one_valid = probabilities_valid[:, 1]\n",
    "fpr, tpr, thresholds = roc_curve(ohe_target_valid, probabilities_one_valid)\n",
    "\n",
    "# Plot ROC Curve\n",
    "plt.figure()\n",
    "plt.plot(fpr, tpr)\n",
    "plt.plot([0, 1], [0, 1], linestyle='--')\n",
    "plt.xlim([0.0, 1.0])\n",
    "plt.ylim([0.0, 1.0])\n",
    "plt.xlabel('False Positive Rate')\n",
    "plt.ylabel('True Positive Rate')\n",
    "plt.title('ROC curve')\n",
    "plt.show()"
   ]
  },
  {
   "cell_type": "code",
   "execution_count": 92,
   "metadata": {},
   "outputs": [
    {
     "name": "stdout",
     "output_type": "stream",
     "text": [
      "The AUC-ROC metric for the model is 0.7411565451839676\n"
     ]
    }
   ],
   "source": [
    "# Calculate AUC Score for the model\n",
    "auc_roc = roc_auc_score(ohe_target_valid, probabilities_one_valid)\n",
    "print(f'The AUC-ROC metric for the model is {auc_roc}')"
   ]
  },
  {
   "cell_type": "markdown",
   "metadata": {},
   "source": [
    "Based on the above results for the **Logistic Regression model trained after downsampling the training data**, we can draw the following conclusions: \n",
    "\n",
    "| Metric           | Training Set | Validation Set                            |\n",
    "|------------------|--------------|-------------------------------------------|\n",
    "| ccuracy Score    | 0.7286       | 0.7010                                    |\n",
    "| Recall Score     | -            | 0.6318                                    |\n",
    "| Precision Score  | -            | 0.3608                                    |\n",
    "| F1 Score         | -            | 0.4593                                    |\n",
    "| Confusion Matrix | -            | [[1148.000, 450.000], [148.000, 254.000]] |\n",
    "\n",
    "Downsampling the training data improved the model's ability to predict churners compared to the previous model without addressing class imbalance. The recall score increased, indicating a better ability to capture churners. "
   ]
  },
  {
   "cell_type": "code",
   "execution_count": 93,
   "metadata": {},
   "outputs": [
    {
     "data": {
      "text/plain": [
       "['logistic_regression_model_upsampled.joblib']"
      ]
     },
     "execution_count": 93,
     "metadata": {},
     "output_type": "execute_result"
    }
   ],
   "source": [
    "# Training Logistic Regression Model on upsampled training data\n",
    "\n",
    "# Instantiate a model with liblinear as solver\n",
    "logistic_regression_model = LogisticRegression(solver='liblinear', class_weight='balanced', random_state=rand_state)\n",
    "\n",
    "# Train the model using training set\n",
    "logistic_regression_model.fit(ohe_features_upsampled, ohe_target_upsampled)\n",
    "\n",
    "# Predict the target using the validation set features\n",
    "predictions_valid = logistic_regression_model.predict(ohe_features_valid)\n",
    "\n",
    "# Check the accuracy of the predictions\n",
    "accuracy = accuracy_score(ohe_target_valid, predictions_valid)\n",
    "\n",
    "# Save the Logistic Regression model\n",
    "dump(logistic_regression_model, 'logistic_regression_model_upsampled.joblib')"
   ]
  },
  {
   "cell_type": "code",
   "execution_count": 94,
   "metadata": {
    "scrolled": false
   },
   "outputs": [
    {
     "name": "stdout",
     "output_type": "stream",
     "text": [
      "The best Logistic Regression model by liblinear solver with the following scores: \n",
      "Accuracy Score on Training Set: 0.7159231722428748\n",
      "Accuracy Score on Validation Set: 0.701\n",
      "Recall Score on Validation Set: 0.6318407960199005\n",
      "Precision Score on Validation Set: 0.36079545454545453\n",
      "F1 Score on Validation Set: 0.4593128390596745\n"
     ]
    },
    {
     "data": {
      "image/png": "[encoded data removed]",
      "text/plain": [
       "<Figure size 648x648 with 2 Axes>"
      ]
     },
     "metadata": {
      "needs_background": "light"
     },
     "output_type": "display_data"
    }
   ],
   "source": [
    "# Load the best Logistic Regression model\n",
    "logistic_regression_model = load('logistic_regression_model_upsampled.joblib')\n",
    "\n",
    "# Predict the target using the validation set features for the best model\n",
    "predictions_train = logistic_regression_model.predict(ohe_features_upsampled)\n",
    "predictions_valid = logistic_regression_model.predict(ohe_features_valid)\n",
    "\n",
    "# Calculate accuracy score of the the best model\n",
    "accuracy_score_train = accuracy_score(ohe_target_upsampled, predictions_train)\n",
    "accuracy_score_valid = accuracy_score(ohe_target_valid, predictions_valid)\n",
    "\n",
    "# Calculate recall_score of the the best model\n",
    "recall_score_valid = recall_score(ohe_target_valid, predictions_valid)\n",
    "\n",
    "# Calculate precision_score of the the best model\n",
    "precision_score_valid = precision_score(ohe_target_valid, predictions_valid)\n",
    "\n",
    "# Calculate the f1-score of the the best model\n",
    "f1_score_valid = f1_score(ohe_target_valid, predictions_valid)\n",
    "\n",
    "# Calculate consfusion matrix of the the best model\n",
    "conf_matrix = confusion_matrix(ohe_target_valid, predictions_valid)\n",
    "\n",
    "# Print out the results\n",
    "print(f'The best Logistic Regression model by liblinear solver with the following scores: ')\n",
    "print(f'Accuracy Score on Training Set: {accuracy_score_train}')\n",
    "print(f'Accuracy Score on Validation Set: {accuracy_score_valid}')\n",
    "print(f'Recall Score on Validation Set: {recall_score_valid}')\n",
    "print(f'Precision Score on Validation Set: {precision_score_valid}')\n",
    "print(f'F1 Score on Validation Set: {f1_score_valid}')\n",
    "\n",
    "# Plot the confusion matrix above in a heat map\n",
    "plt.figure(figsize=(9,9))\n",
    "sns.heatmap(conf_matrix, annot=True, fmt='.3f', linewidths=.5, square=True, cmap='Blues_r')\n",
    "plt.ylabel('Actual label')\n",
    "plt.xlabel('Predicted label')\n",
    "plot_title = f'Accuracy Score: {accuracy_score_valid}'\n",
    "plt.title(plot_title, size=15)\n",
    "plt.show()"
   ]
  },
  {
   "cell_type": "code",
   "execution_count": 95,
   "metadata": {},
   "outputs": [
    {
     "data": {
      "image/png": "[encoded data removed]",
      "text/plain": [
       "<Figure size 432x288 with 1 Axes>"
      ]
     },
     "metadata": {
      "needs_background": "light"
     },
     "output_type": "display_data"
    }
   ],
   "source": [
    "# Calculate True Positive Rate & False Positive Rate for the model\n",
    "probabilities_valid = logistic_regression_model.predict_proba(ohe_features_valid)\n",
    "probabilities_one_valid = probabilities_valid[:, 1]\n",
    "fpr, tpr, thresholds = roc_curve(ohe_target_valid, probabilities_one_valid)\n",
    "\n",
    "# Plot ROC Curve\n",
    "plt.figure()\n",
    "plt.plot(fpr, tpr)\n",
    "plt.plot([0, 1], [0, 1], linestyle='--')\n",
    "plt.xlim([0.0, 1.0])\n",
    "plt.ylim([0.0, 1.0])\n",
    "plt.xlabel('False Positive Rate')\n",
    "plt.ylabel('True Positive Rate')\n",
    "plt.title('ROC curve')\n",
    "plt.show()"
   ]
  },
  {
   "cell_type": "code",
   "execution_count": 96,
   "metadata": {},
   "outputs": [
    {
     "name": "stdout",
     "output_type": "stream",
     "text": [
      "The AUC-ROC metric for the model is 0.741458539592401\n"
     ]
    }
   ],
   "source": [
    "# Calculate AUC Score for the model\n",
    "auc_roc = roc_auc_score(ohe_target_valid, probabilities_one_valid)\n",
    "print(f'The AUC-ROC metric for the model is {auc_roc}')"
   ]
  },
  {
   "cell_type": "markdown",
   "metadata": {},
   "source": [
    "Based on the above results for the **Logistic Regression model trained after upsampling the training data**, we can draw the following conclusions: \n",
    "\n",
    "| Metric           | Training Set | Validation Set                            |\n",
    "|------------------|--------------|-------------------------------------------|\n",
    "| Accuracy Score   | 0.7159       | 0.7010                                    |\n",
    "| Recall Score     | -            | 0.6318                                    |\n",
    "| Precision Score  | -            | 0.3608                                    |\n",
    "| F1 Score         | -            | 0.4593                                    |\n",
    "| Confusion Matrix | -            | [[1148.000, 450.000], [148.000, 254.000]] |\n",
    "\n",
    "The Logistic Regression model, trained after upsampling the training data, shows some improvement in identifying churners compared to the initial results. The recall, precision, and F1 score indicate that the model has some ability to predict churners better. **The Logistic Regression model trained after upsampling the training data has performed exactly the same as the one trained after downsampling the training data**."
   ]
  },
  {
   "cell_type": "markdown",
   "metadata": {},
   "source": [
    "# 14. Test the best model on test data <a id='test-the-best-model'></a>  \n",
    "[Back to Contents](#contents)"
   ]
  },
  {
   "cell_type": "markdown",
   "metadata": {},
   "source": [
    "From all of the above tests, we can conclude that the **Random Forest Classifier model trained on the upsampled training data** has performed the best. Let's test that on the test data."
   ]
  },
  {
   "cell_type": "code",
   "execution_count": 97,
   "metadata": {
    "scrolled": false
   },
   "outputs": [
    {
     "name": "stdout",
     "output_type": "stream",
     "text": [
      "Accuracy Score on Test Set: 0.8245\n",
      "Recall Score on Test Set: 0.6584766584766585\n",
      "Precision Score on Test Set: 0.5583333333333333\n",
      "F1 Score on Test Set: 0.6042841037204058\n"
     ]
    },
    {
     "data": {
      "image/png": "[encoded data removed]",
      "text/plain": [
       "<Figure size 648x648 with 2 Axes>"
      ]
     },
     "metadata": {
      "needs_background": "light"
     },
     "output_type": "display_data"
    }
   ],
   "source": [
    "# Load the best Random Forest Classifier model\n",
    "random_forest_classifier_model = load('best_random_forest_classifier_model_upsampled.joblib')\n",
    "\n",
    "# Predict the target using the test set features for the best model\n",
    "predictions_test = random_forest_classifier_model.predict(ordinal_features_test)\n",
    "\n",
    "# Calculate accuracy score of the best model\n",
    "accuracy_score_test = accuracy_score(ordinal_target_test, predictions_test)\n",
    "\n",
    "# Calculate recall_score of the best model\n",
    "recall_score_test = recall_score(ordinal_target_test, predictions_test)\n",
    "\n",
    "# Calculate precision_score of the best model\n",
    "precision_score_test = precision_score(ordinal_target_test, predictions_test)\n",
    "\n",
    "# Calculate the f1-score of the best model\n",
    "f1_score_test = f1_score(ordinal_target_test, predictions_test)\n",
    "\n",
    "# Calculate consfusion matrix of the best model\n",
    "conf_matrix = confusion_matrix(ordinal_target_test, predictions_test)\n",
    "\n",
    "# Print out the results\n",
    "print(f'Accuracy Score on Test Set: {accuracy_score_test}')\n",
    "print(f'Recall Score on Test Set: {recall_score_test}')\n",
    "print(f'Precision Score on Test Set: {precision_score_test}')\n",
    "print(f'F1 Score on Test Set: {f1_score_test}')\n",
    "\n",
    "# Plot the confusion matrix above in a heat map\n",
    "plt.figure(figsize=(9,9))\n",
    "sns.heatmap(conf_matrix, annot=True, fmt='.3f', linewidths=.5, square=True, cmap='Greens_r')\n",
    "plt.ylabel('Actual label')\n",
    "plt.xlabel('Predicted label')\n",
    "plot_title = f'Accuracy Score: {accuracy_score_valid}'\n",
    "plt.title(plot_title, size=15)\n",
    "plt.show()"
   ]
  },
  {
   "cell_type": "markdown",
   "metadata": {},
   "source": [
    "Based on the etrics evaluated above for the **Random Forest Classifier model trained on the upsampled training data and tested on the test set**, we can draw the following conclusions:\n",
    "\n",
    "1. **Accuracy Score**: The model achieved an accuracy of approximately `82.45%` on the test set. Accuracy measures the overall correctness of the model's predictions. An accuracy of `82.45%` indicates that the model's predictions are relatively accurate.\n",
    "\n",
    "2. **Recall Score**: The recall score on the test set is approximately `65.85%`. Recall measures the ability of the model to correctly identify positive cases (churners) out of all actual positive cases. With a recall of `65.85%`, the model can identify around `65.85%` of the customers who actually churned.\n",
    "\n",
    "3. **Precision Score**: The precision score on the test set is approximately `55.83%`.\n",
    "\n",
    "4. **F1 Score**: The F1 score on the test set is approximately `60.43%`.\n",
    "\n",
    "5. **Confusion Matrix**: The confusion matrix shows the model's performance in terms of true positives (TP), false positives (FP), true negatives (TN), and false negatives (FN) on the test set. The top-left cell represents true negatives (TN), indicating 1381 customers were correctly classified as non-churners. The top-right cell represents false positives (FP), indicating 212 customers were incorrectly classified as churners. The bottom-left cell represents false negatives (FN), indicating 139 customers were incorrectly classified as non-churners. The bottom-right cell represents true positives (TP), indicating 268 customers were correctly classified as churners.\n",
    "\n",
    "The Random Forest Classifier model trained on the upsampled training data performed well on the test set. **It achieved a decent accuracy of 82.45% and demonstrated an improved ability to detect churners compared to previous models. The balanced F1 score of 60.43% indicates that the model strikes a reasonable trade-off between precision and recall**."
   ]
  },
  {
   "cell_type": "markdown",
   "metadata": {},
   "source": [
    "## Calculate AUC-ROC metric\n",
    "[Back to Contents](#contents)"
   ]
  },
  {
   "cell_type": "code",
   "execution_count": 98,
   "metadata": {},
   "outputs": [
    {
     "data": {
      "image/png": "[encoded data removed]",
      "text/plain": [
       "<Figure size 432x288 with 1 Axes>"
      ]
     },
     "metadata": {
      "needs_background": "light"
     },
     "output_type": "display_data"
    }
   ],
   "source": [
    "# Calculate True Positive Rate & False Positive Rate for the model\n",
    "probabilities_test = random_forest_classifier_model.predict_proba(ordinal_features_test)\n",
    "probabilities_one_test = probabilities_test[:, 1]\n",
    "fpr, tpr, thresholds = roc_curve(ordinal_target_test, probabilities_one_test)\n",
    "\n",
    "# Plot ROC Curve\n",
    "plt.figure()\n",
    "plt.plot(fpr, tpr)\n",
    "plt.plot([0, 1], [0, 1], linestyle='--')\n",
    "plt.xlim([0.0, 1.0])\n",
    "plt.ylim([0.0, 1.0])\n",
    "plt.xlabel('False Positive Rate')\n",
    "plt.ylabel('True Positive Rate')\n",
    "plt.title('ROC curve')\n",
    "plt.show()"
   ]
  },
  {
   "cell_type": "code",
   "execution_count": 99,
   "metadata": {},
   "outputs": [
    {
     "name": "stdout",
     "output_type": "stream",
     "text": [
      "The AUC-ROC metric for the Random Forest Classifier Model is 0.8504714267426132\n"
     ]
    }
   ],
   "source": [
    "# Calculate AUC Score for the model\n",
    "auc_roc = roc_auc_score(ordinal_target_test, probabilities_one_test)\n",
    "\n",
    "print(f'The AUC-ROC metric for the Random Forest Classifier Model is {auc_roc}')"
   ]
  },
  {
   "cell_type": "markdown",
   "metadata": {},
   "source": [
    "The **AUC-ROC (Area Under the Receiver Operating Characteristic Curve)** metric for the Random Forest Classifier Model is 0.8504714267426132.\n",
    "\n",
    "1. The AUC-ROC score indicates the model's ability to distinguish between positive and negative classes (churners and non-churners) based on their predicted probabilities. **A higher AUC-ROC score, closer to 1, suggests better discriminative power, meaning the model is better at differentiating between the two classes**.  An AUC-ROC score of 0.85 indicates that the model has a good ability to distinguish between churners and non-churners, with a relatively low chance of misclassifying the two classes.\n",
    "\n",
    "2. **Model Effectiveness**: The AUC-ROC score, along with the other evaluation metrics, confirms that the Random Forest Classifier model is effective in predicting customer churn and outperforms random guessing and baseline models."
   ]
  },
  {
   "cell_type": "markdown",
   "metadata": {},
   "source": [
    "## Perform Sanity Test\n",
    "[Back to Contents](#contents)"
   ]
  },
  {
   "cell_type": "markdown",
   "metadata": {},
   "source": [
    "To assess the sanity of the best model, we have found - **Random Forest Classifier** model, let's create a constant model:  it predicts class \"0\" for any observation. And then compare it will the results of our model."
   ]
  },
  {
   "cell_type": "code",
   "execution_count": 100,
   "metadata": {},
   "outputs": [
    {
     "name": "stdout",
     "output_type": "stream",
     "text": [
      "Accuracy Score for constant model: 0.7965\n",
      "F1 Score for constant model: 0.0\n"
     ]
    }
   ],
   "source": [
    "# Get a constant model that predicts class \"0\" for any observation.\n",
    "target_pred_constant = pd.Series(0, index=ordinal_target_test)\n",
    "\n",
    "# Calculate accuracy score of the constant model\n",
    "accuracy_score_constant = accuracy_score(ordinal_target_test, target_pred_constant)\n",
    "\n",
    "# Calculate the f1-score of the constant model\n",
    "f1_score_constant = f1_score(ordinal_target_test, target_pred_constant)\n",
    "\n",
    "# Print out the results\n",
    "print(f'Accuracy Score for constant model: {accuracy_score_constant}')\n",
    "print(f'F1 Score for constant model: {f1_score_constant}')"
   ]
  },
  {
   "cell_type": "code",
   "execution_count": 101,
   "metadata": {},
   "outputs": [
    {
     "name": "stdout",
     "output_type": "stream",
     "text": [
      "Accuracy Score for the best model: 0.8245\n",
      "F1 Score for the best model: 0.6042841037204058\n"
     ]
    }
   ],
   "source": [
    "# Calculate accuracy score of the best model\n",
    "accuracy_score_test = accuracy_score(ordinal_target_test, predictions_test)\n",
    "\n",
    "# Calculate the f1-score of the best model\n",
    "f1_score_test = f1_score(ordinal_target_test, predictions_test)\n",
    "\n",
    "# Print out the results\n",
    "print(f'Accuracy Score for the best model: {accuracy_score_test}')\n",
    "print(f'F1 Score for the best model: {f1_score_test}')"
   ]
  },
  {
   "cell_type": "markdown",
   "metadata": {},
   "source": [
    "Comparing the performance of the best model, which is the **Random Forest Classifier**, with a constant model that predicts class \"0\" for any observation, we can draw the following conclusions:\n",
    "\n",
    "1. **Accuracy Score**:\n",
    "\n",
    "- **Constant Model**: The constant model achieved an accuracy score of `0.7965`.\n",
    "- **Best Model (Random Forest Classifier)**: The best model achieved an accuracy score of `0.8245`.\n",
    "- **Conclusion**: The best model (Random Forest Classifier) has a slightly higher accuracy than the constant model. This indicates that the best model's predictions are more accurate than simply predicting the majority class for all observations.\n",
    "\n",
    "2. **F1 Score**:\n",
    "\n",
    "- **Constant Model**: The constant model achieved an F1 score of `0.0`.\n",
    "- **Best Model (Random Forest Classifier)**: The best model achieved an F1 score of `0.6042841037204058`.\n",
    "- **Conclusion**: The F1 score for the constant model is 0.0, which means **it has no ability to balance precision and recall, likely due to always predicting the majority class**. On the other hand, the best model's F1 score is 0.6042, indicating that it achieves a reasonable trade-off between precision and recall. The best model demonstrates a better ability to predict both classes, including the minority class (churners).\n",
    "\n",
    "The best model, **Random Forest Classifier**, significantly outperforms the constant model in terms of accuracy and F1 score."
   ]
  },
  {
   "cell_type": "markdown",
   "metadata": {},
   "source": [
    "# 15. Conclusion  <a id='conclusion'></a>  \n",
    "[Back to Contents](#contents)"
   ]
  },
  {
   "cell_type": "markdown",
   "metadata": {},
   "source": [
    "In this project, our goal was to predict whether a customer will leave the bank soon based on past behavior and termination of contracts with the bank. We addressed the challenge of class imbalance, where the number of churners (the minority class) was significantly lower than non-churners (the majority class). Our primary focus was to build a model with a high F1 score (F1 score of at least 0.59), which considers both precision and recall and is particularly suitable for imbalanced datasets.  \n",
    "\n",
    "We experimented with three different models: Decision Tree Classifier, Logistic Regression, and Random Forest Classifier. After handling class imbalance through a combination of downscaling and upscaling techniques, we evaluated the models on validation and test sets using various metrics, including accuracy, recall, precision, F1 score, and AUC-ROC.\n",
    "\n",
    "The results showed that the **Random Forest Classifier** outperformed the other models in terms of accuracy, recall, and F1 score. It demonstrated a balanced performance, effectively predicting churners while maintaining reasonable precision. The Random Forest Classifier's ability to handle class imbalance and its ensemble nature contributed to its success in accurately predicting customer churn.\n",
    "\n",
    "On the test set, the **Random Forest Classifier model trained on upsampled training data** achieved an accuracy score of `81.45%`, a recall score of `65.84%`, a precision score of `53.83%`, and an F1 score of `60.43%`. The AUC-ROC score of `0.8504714267426132` further confirmed the model's discriminative power in distinguishing between churners and non-churners.\n",
    "\n",
    "Compared to a simple constant model that always predicts the majority class, the Random Forest Classifier showcased its superiority, providing more accurate and balanced predictions.\n",
    "\n",
    "In conclusion, the **Random Forest Classifier** proved to be the best model for this customer churn prediction project. It offers a good balance between precision and recall, effectively identifying customers likely to leave the bank and providing valuable insights for retention strategies."
   ]
  }
 ],
 "metadata": {
  "kernelspec": {
   "display_name": "Python 3 (ipykernel)",
   "language": "python",
   "name": "python3"
  },
  "language_info": {
   "codemirror_mode": {
    "name": "ipython",
    "version": 3
   },
   "file_extension": ".py",
   "mimetype": "text/x-python",
   "name": "python",
   "nbconvert_exporter": "python",
   "pygments_lexer": "ipython3",
   "version": "3.9.5"
  },
  "toc": {
   "base_numbering": 1,
   "nav_menu": {},
   "number_sections": true,
   "sideBar": true,
   "skip_h1_title": true,
   "title_cell": "Table of Contents",
   "title_sidebar": "Contents",
   "toc_cell": false,
   "toc_position": {},
   "toc_section_display": true,
   "toc_window_display": false
  }
 },
 "nbformat": 4,
 "nbformat_minor": 2
}
